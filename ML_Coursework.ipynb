{
  "nbformat": 4,
  "nbformat_minor": 0,
  "metadata": {
    "colab": {
      "provenance": [],
      "authorship_tag": "ABX9TyPbxmQ7Kg+t12j71YLBoX4t",
      "include_colab_link": true
    },
    "kernelspec": {
      "name": "python3",
      "display_name": "Python 3"
    },
    "language_info": {
      "name": "python"
    }
  },
  "cells": [
    {
      "cell_type": "markdown",
      "metadata": {
        "id": "view-in-github",
        "colab_type": "text"
      },
      "source": [
        "<a href=\"https://colab.research.google.com/github/RanxduG/Machine-Learning-Coursework/blob/main/ML_Coursework.ipynb\" target=\"_parent\"><img src=\"https://colab.research.google.com/assets/colab-badge.svg\" alt=\"Open In Colab\"/></a>"
      ]
    },
    {
      "cell_type": "markdown",
      "source": [
        "#Data Loading"
      ],
      "metadata": {
        "id": "uTEX8HyaASBs"
      }
    },
    {
      "cell_type": "code",
      "execution_count": 1,
      "metadata": {
        "colab": {
          "base_uri": "https://localhost:8080/"
        },
        "id": "o6B4GPpN0goe",
        "outputId": "0077d996-e89b-4273-a323-0c22b933b545"
      },
      "outputs": [
        {
          "output_type": "stream",
          "name": "stdout",
          "text": [
            "Dataset Description:\n",
            "<class 'pandas.core.frame.DataFrame'>\n",
            "RangeIndex: 48843 entries, 0 to 48842\n",
            "Data columns (total 15 columns):\n",
            " #   Column          Non-Null Count  Dtype  \n",
            "---  ------          --------------  -----  \n",
            " 0   age             48843 non-null  object \n",
            " 1   workclass       48842 non-null  object \n",
            " 2   fnlwgt          48842 non-null  float64\n",
            " 3   education       48842 non-null  object \n",
            " 4   education-num   48842 non-null  float64\n",
            " 5   marital-status  48842 non-null  object \n",
            " 6   occupation      48842 non-null  object \n",
            " 7   relationship    48842 non-null  object \n",
            " 8   race            48842 non-null  object \n",
            " 9   sex             48842 non-null  object \n",
            " 10  capital-gain    48842 non-null  float64\n",
            " 11  capital-loss    48842 non-null  float64\n",
            " 12  hours-per-week  48842 non-null  float64\n",
            " 13  native-country  48842 non-null  object \n",
            " 14  income          48842 non-null  object \n",
            "dtypes: float64(5), object(10)\n",
            "memory usage: 5.6+ MB\n",
            "None\n",
            "\n",
            "Sample records:\n",
            "  age          workclass    fnlwgt   education  education-num  \\\n",
            "0  39          State-gov   77516.0   Bachelors           13.0   \n",
            "1  50   Self-emp-not-inc   83311.0   Bachelors           13.0   \n",
            "2  38            Private  215646.0     HS-grad            9.0   \n",
            "3  53            Private  234721.0        11th            7.0   \n",
            "4  28            Private  338409.0   Bachelors           13.0   \n",
            "\n",
            "        marital-status          occupation    relationship    race      sex  \\\n",
            "0        Never-married        Adm-clerical   Not-in-family   White     Male   \n",
            "1   Married-civ-spouse     Exec-managerial         Husband   White     Male   \n",
            "2             Divorced   Handlers-cleaners   Not-in-family   White     Male   \n",
            "3   Married-civ-spouse   Handlers-cleaners         Husband   Black     Male   \n",
            "4   Married-civ-spouse      Prof-specialty            Wife   Black   Female   \n",
            "\n",
            "   capital-gain  capital-loss  hours-per-week  native-country  income  \n",
            "0        2174.0           0.0            40.0   United-States   <=50K  \n",
            "1           0.0           0.0            13.0   United-States   <=50K  \n",
            "2           0.0           0.0            40.0   United-States   <=50K  \n",
            "3           0.0           0.0            40.0   United-States   <=50K  \n",
            "4           0.0           0.0            40.0            Cuba   <=50K  \n"
          ]
        }
      ],
      "source": [
        "import pandas as pd\n",
        "\n",
        "# Load the dataset\n",
        "url_train = \"https://archive.ics.uci.edu/ml/machine-learning-databases/adult/adult.data\"\n",
        "url_test = \"https://archive.ics.uci.edu/ml/machine-learning-databases/adult/adult.test\"\n",
        "column_names = ['age', 'workclass', 'fnlwgt', 'education', 'education-num', 'marital-status',\n",
        "                'occupation', 'relationship', 'race', 'sex', 'capital-gain', 'capital-loss',\n",
        "                'hours-per-week', 'native-country', 'income']\n",
        "\n",
        "df_train = pd.read_csv(url_train, names=column_names)\n",
        "df_test = pd.read_csv(url_test, names=column_names)\n",
        "\n",
        "# Concatenate train and test datasets\n",
        "df = pd.concat([df_train, df_test], ignore_index=True)\n",
        "\n",
        "print(\"Dataset Description:\")\n",
        "print(df.info())\n",
        "print(\"\\nSample records:\")\n",
        "print(df.head())"
      ]
    },
    {
      "cell_type": "code",
      "source": [
        "# Assuming 'preprocessed_df' is your DataFrame\n",
        "nan_sum_per_column = df.isna().sum()\n",
        "\n",
        "print(\"Sum of NaN values in each column:\")\n",
        "print(nan_sum_per_column)\n"
      ],
      "metadata": {
        "colab": {
          "base_uri": "https://localhost:8080/"
        },
        "id": "xN09y7OPc7GZ",
        "outputId": "f6602c75-fc3c-42aa-f4df-b8080cc41562"
      },
      "execution_count": 2,
      "outputs": [
        {
          "output_type": "stream",
          "name": "stdout",
          "text": [
            "Sum of NaN values in each column:\n",
            "age               0\n",
            "workclass         1\n",
            "fnlwgt            1\n",
            "education         1\n",
            "education-num     1\n",
            "marital-status    1\n",
            "occupation        1\n",
            "relationship      1\n",
            "race              1\n",
            "sex               1\n",
            "capital-gain      1\n",
            "capital-loss      1\n",
            "hours-per-week    1\n",
            "native-country    1\n",
            "income            1\n",
            "dtype: int64\n"
          ]
        }
      ]
    },
    {
      "cell_type": "code",
      "source": [
        "df.shape"
      ],
      "metadata": {
        "colab": {
          "base_uri": "https://localhost:8080/"
        },
        "id": "isceq-RCdTP9",
        "outputId": "87f8f4d7-89fb-4f47-b673-d40981e1fd9c"
      },
      "execution_count": 3,
      "outputs": [
        {
          "output_type": "execute_result",
          "data": {
            "text/plain": [
              "(48843, 15)"
            ]
          },
          "metadata": {},
          "execution_count": 3
        }
      ]
    },
    {
      "cell_type": "code",
      "source": [
        "df.head()"
      ],
      "metadata": {
        "colab": {
          "base_uri": "https://localhost:8080/",
          "height": 206
        },
        "id": "6k3UKWQCFAcy",
        "outputId": "7b24ed10-3041-495c-86a6-fb315503bf47"
      },
      "execution_count": 4,
      "outputs": [
        {
          "output_type": "execute_result",
          "data": {
            "text/plain": [
              "  age          workclass    fnlwgt   education  education-num  \\\n",
              "0  39          State-gov   77516.0   Bachelors           13.0   \n",
              "1  50   Self-emp-not-inc   83311.0   Bachelors           13.0   \n",
              "2  38            Private  215646.0     HS-grad            9.0   \n",
              "3  53            Private  234721.0        11th            7.0   \n",
              "4  28            Private  338409.0   Bachelors           13.0   \n",
              "\n",
              "        marital-status          occupation    relationship    race      sex  \\\n",
              "0        Never-married        Adm-clerical   Not-in-family   White     Male   \n",
              "1   Married-civ-spouse     Exec-managerial         Husband   White     Male   \n",
              "2             Divorced   Handlers-cleaners   Not-in-family   White     Male   \n",
              "3   Married-civ-spouse   Handlers-cleaners         Husband   Black     Male   \n",
              "4   Married-civ-spouse      Prof-specialty            Wife   Black   Female   \n",
              "\n",
              "   capital-gain  capital-loss  hours-per-week  native-country  income  \n",
              "0        2174.0           0.0            40.0   United-States   <=50K  \n",
              "1           0.0           0.0            13.0   United-States   <=50K  \n",
              "2           0.0           0.0            40.0   United-States   <=50K  \n",
              "3           0.0           0.0            40.0   United-States   <=50K  \n",
              "4           0.0           0.0            40.0            Cuba   <=50K  "
            ],
            "text/html": [
              "\n",
              "  <div id=\"df-1a97c864-f598-415a-ac68-c7405fb97869\" class=\"colab-df-container\">\n",
              "    <div>\n",
              "<style scoped>\n",
              "    .dataframe tbody tr th:only-of-type {\n",
              "        vertical-align: middle;\n",
              "    }\n",
              "\n",
              "    .dataframe tbody tr th {\n",
              "        vertical-align: top;\n",
              "    }\n",
              "\n",
              "    .dataframe thead th {\n",
              "        text-align: right;\n",
              "    }\n",
              "</style>\n",
              "<table border=\"1\" class=\"dataframe\">\n",
              "  <thead>\n",
              "    <tr style=\"text-align: right;\">\n",
              "      <th></th>\n",
              "      <th>age</th>\n",
              "      <th>workclass</th>\n",
              "      <th>fnlwgt</th>\n",
              "      <th>education</th>\n",
              "      <th>education-num</th>\n",
              "      <th>marital-status</th>\n",
              "      <th>occupation</th>\n",
              "      <th>relationship</th>\n",
              "      <th>race</th>\n",
              "      <th>sex</th>\n",
              "      <th>capital-gain</th>\n",
              "      <th>capital-loss</th>\n",
              "      <th>hours-per-week</th>\n",
              "      <th>native-country</th>\n",
              "      <th>income</th>\n",
              "    </tr>\n",
              "  </thead>\n",
              "  <tbody>\n",
              "    <tr>\n",
              "      <th>0</th>\n",
              "      <td>39</td>\n",
              "      <td>State-gov</td>\n",
              "      <td>77516.0</td>\n",
              "      <td>Bachelors</td>\n",
              "      <td>13.0</td>\n",
              "      <td>Never-married</td>\n",
              "      <td>Adm-clerical</td>\n",
              "      <td>Not-in-family</td>\n",
              "      <td>White</td>\n",
              "      <td>Male</td>\n",
              "      <td>2174.0</td>\n",
              "      <td>0.0</td>\n",
              "      <td>40.0</td>\n",
              "      <td>United-States</td>\n",
              "      <td>&lt;=50K</td>\n",
              "    </tr>\n",
              "    <tr>\n",
              "      <th>1</th>\n",
              "      <td>50</td>\n",
              "      <td>Self-emp-not-inc</td>\n",
              "      <td>83311.0</td>\n",
              "      <td>Bachelors</td>\n",
              "      <td>13.0</td>\n",
              "      <td>Married-civ-spouse</td>\n",
              "      <td>Exec-managerial</td>\n",
              "      <td>Husband</td>\n",
              "      <td>White</td>\n",
              "      <td>Male</td>\n",
              "      <td>0.0</td>\n",
              "      <td>0.0</td>\n",
              "      <td>13.0</td>\n",
              "      <td>United-States</td>\n",
              "      <td>&lt;=50K</td>\n",
              "    </tr>\n",
              "    <tr>\n",
              "      <th>2</th>\n",
              "      <td>38</td>\n",
              "      <td>Private</td>\n",
              "      <td>215646.0</td>\n",
              "      <td>HS-grad</td>\n",
              "      <td>9.0</td>\n",
              "      <td>Divorced</td>\n",
              "      <td>Handlers-cleaners</td>\n",
              "      <td>Not-in-family</td>\n",
              "      <td>White</td>\n",
              "      <td>Male</td>\n",
              "      <td>0.0</td>\n",
              "      <td>0.0</td>\n",
              "      <td>40.0</td>\n",
              "      <td>United-States</td>\n",
              "      <td>&lt;=50K</td>\n",
              "    </tr>\n",
              "    <tr>\n",
              "      <th>3</th>\n",
              "      <td>53</td>\n",
              "      <td>Private</td>\n",
              "      <td>234721.0</td>\n",
              "      <td>11th</td>\n",
              "      <td>7.0</td>\n",
              "      <td>Married-civ-spouse</td>\n",
              "      <td>Handlers-cleaners</td>\n",
              "      <td>Husband</td>\n",
              "      <td>Black</td>\n",
              "      <td>Male</td>\n",
              "      <td>0.0</td>\n",
              "      <td>0.0</td>\n",
              "      <td>40.0</td>\n",
              "      <td>United-States</td>\n",
              "      <td>&lt;=50K</td>\n",
              "    </tr>\n",
              "    <tr>\n",
              "      <th>4</th>\n",
              "      <td>28</td>\n",
              "      <td>Private</td>\n",
              "      <td>338409.0</td>\n",
              "      <td>Bachelors</td>\n",
              "      <td>13.0</td>\n",
              "      <td>Married-civ-spouse</td>\n",
              "      <td>Prof-specialty</td>\n",
              "      <td>Wife</td>\n",
              "      <td>Black</td>\n",
              "      <td>Female</td>\n",
              "      <td>0.0</td>\n",
              "      <td>0.0</td>\n",
              "      <td>40.0</td>\n",
              "      <td>Cuba</td>\n",
              "      <td>&lt;=50K</td>\n",
              "    </tr>\n",
              "  </tbody>\n",
              "</table>\n",
              "</div>\n",
              "    <div class=\"colab-df-buttons\">\n",
              "\n",
              "  <div class=\"colab-df-container\">\n",
              "    <button class=\"colab-df-convert\" onclick=\"convertToInteractive('df-1a97c864-f598-415a-ac68-c7405fb97869')\"\n",
              "            title=\"Convert this dataframe to an interactive table.\"\n",
              "            style=\"display:none;\">\n",
              "\n",
              "  <svg xmlns=\"http://www.w3.org/2000/svg\" height=\"24px\" viewBox=\"0 -960 960 960\">\n",
              "    <path d=\"M120-120v-720h720v720H120Zm60-500h600v-160H180v160Zm220 220h160v-160H400v160Zm0 220h160v-160H400v160ZM180-400h160v-160H180v160Zm440 0h160v-160H620v160ZM180-180h160v-160H180v160Zm440 0h160v-160H620v160Z\"/>\n",
              "  </svg>\n",
              "    </button>\n",
              "\n",
              "  <style>\n",
              "    .colab-df-container {\n",
              "      display:flex;\n",
              "      gap: 12px;\n",
              "    }\n",
              "\n",
              "    .colab-df-convert {\n",
              "      background-color: #E8F0FE;\n",
              "      border: none;\n",
              "      border-radius: 50%;\n",
              "      cursor: pointer;\n",
              "      display: none;\n",
              "      fill: #1967D2;\n",
              "      height: 32px;\n",
              "      padding: 0 0 0 0;\n",
              "      width: 32px;\n",
              "    }\n",
              "\n",
              "    .colab-df-convert:hover {\n",
              "      background-color: #E2EBFA;\n",
              "      box-shadow: 0px 1px 2px rgba(60, 64, 67, 0.3), 0px 1px 3px 1px rgba(60, 64, 67, 0.15);\n",
              "      fill: #174EA6;\n",
              "    }\n",
              "\n",
              "    .colab-df-buttons div {\n",
              "      margin-bottom: 4px;\n",
              "    }\n",
              "\n",
              "    [theme=dark] .colab-df-convert {\n",
              "      background-color: #3B4455;\n",
              "      fill: #D2E3FC;\n",
              "    }\n",
              "\n",
              "    [theme=dark] .colab-df-convert:hover {\n",
              "      background-color: #434B5C;\n",
              "      box-shadow: 0px 1px 3px 1px rgba(0, 0, 0, 0.15);\n",
              "      filter: drop-shadow(0px 1px 2px rgba(0, 0, 0, 0.3));\n",
              "      fill: #FFFFFF;\n",
              "    }\n",
              "  </style>\n",
              "\n",
              "    <script>\n",
              "      const buttonEl =\n",
              "        document.querySelector('#df-1a97c864-f598-415a-ac68-c7405fb97869 button.colab-df-convert');\n",
              "      buttonEl.style.display =\n",
              "        google.colab.kernel.accessAllowed ? 'block' : 'none';\n",
              "\n",
              "      async function convertToInteractive(key) {\n",
              "        const element = document.querySelector('#df-1a97c864-f598-415a-ac68-c7405fb97869');\n",
              "        const dataTable =\n",
              "          await google.colab.kernel.invokeFunction('convertToInteractive',\n",
              "                                                    [key], {});\n",
              "        if (!dataTable) return;\n",
              "\n",
              "        const docLinkHtml = 'Like what you see? Visit the ' +\n",
              "          '<a target=\"_blank\" href=https://colab.research.google.com/notebooks/data_table.ipynb>data table notebook</a>'\n",
              "          + ' to learn more about interactive tables.';\n",
              "        element.innerHTML = '';\n",
              "        dataTable['output_type'] = 'display_data';\n",
              "        await google.colab.output.renderOutput(dataTable, element);\n",
              "        const docLink = document.createElement('div');\n",
              "        docLink.innerHTML = docLinkHtml;\n",
              "        element.appendChild(docLink);\n",
              "      }\n",
              "    </script>\n",
              "  </div>\n",
              "\n",
              "\n",
              "<div id=\"df-156c30e0-c5e3-4cec-a9e1-b0640776f6f2\">\n",
              "  <button class=\"colab-df-quickchart\" onclick=\"quickchart('df-156c30e0-c5e3-4cec-a9e1-b0640776f6f2')\"\n",
              "            title=\"Suggest charts\"\n",
              "            style=\"display:none;\">\n",
              "\n",
              "<svg xmlns=\"http://www.w3.org/2000/svg\" height=\"24px\"viewBox=\"0 0 24 24\"\n",
              "     width=\"24px\">\n",
              "    <g>\n",
              "        <path d=\"M19 3H5c-1.1 0-2 .9-2 2v14c0 1.1.9 2 2 2h14c1.1 0 2-.9 2-2V5c0-1.1-.9-2-2-2zM9 17H7v-7h2v7zm4 0h-2V7h2v10zm4 0h-2v-4h2v4z\"/>\n",
              "    </g>\n",
              "</svg>\n",
              "  </button>\n",
              "\n",
              "<style>\n",
              "  .colab-df-quickchart {\n",
              "      --bg-color: #E8F0FE;\n",
              "      --fill-color: #1967D2;\n",
              "      --hover-bg-color: #E2EBFA;\n",
              "      --hover-fill-color: #174EA6;\n",
              "      --disabled-fill-color: #AAA;\n",
              "      --disabled-bg-color: #DDD;\n",
              "  }\n",
              "\n",
              "  [theme=dark] .colab-df-quickchart {\n",
              "      --bg-color: #3B4455;\n",
              "      --fill-color: #D2E3FC;\n",
              "      --hover-bg-color: #434B5C;\n",
              "      --hover-fill-color: #FFFFFF;\n",
              "      --disabled-bg-color: #3B4455;\n",
              "      --disabled-fill-color: #666;\n",
              "  }\n",
              "\n",
              "  .colab-df-quickchart {\n",
              "    background-color: var(--bg-color);\n",
              "    border: none;\n",
              "    border-radius: 50%;\n",
              "    cursor: pointer;\n",
              "    display: none;\n",
              "    fill: var(--fill-color);\n",
              "    height: 32px;\n",
              "    padding: 0;\n",
              "    width: 32px;\n",
              "  }\n",
              "\n",
              "  .colab-df-quickchart:hover {\n",
              "    background-color: var(--hover-bg-color);\n",
              "    box-shadow: 0 1px 2px rgba(60, 64, 67, 0.3), 0 1px 3px 1px rgba(60, 64, 67, 0.15);\n",
              "    fill: var(--button-hover-fill-color);\n",
              "  }\n",
              "\n",
              "  .colab-df-quickchart-complete:disabled,\n",
              "  .colab-df-quickchart-complete:disabled:hover {\n",
              "    background-color: var(--disabled-bg-color);\n",
              "    fill: var(--disabled-fill-color);\n",
              "    box-shadow: none;\n",
              "  }\n",
              "\n",
              "  .colab-df-spinner {\n",
              "    border: 2px solid var(--fill-color);\n",
              "    border-color: transparent;\n",
              "    border-bottom-color: var(--fill-color);\n",
              "    animation:\n",
              "      spin 1s steps(1) infinite;\n",
              "  }\n",
              "\n",
              "  @keyframes spin {\n",
              "    0% {\n",
              "      border-color: transparent;\n",
              "      border-bottom-color: var(--fill-color);\n",
              "      border-left-color: var(--fill-color);\n",
              "    }\n",
              "    20% {\n",
              "      border-color: transparent;\n",
              "      border-left-color: var(--fill-color);\n",
              "      border-top-color: var(--fill-color);\n",
              "    }\n",
              "    30% {\n",
              "      border-color: transparent;\n",
              "      border-left-color: var(--fill-color);\n",
              "      border-top-color: var(--fill-color);\n",
              "      border-right-color: var(--fill-color);\n",
              "    }\n",
              "    40% {\n",
              "      border-color: transparent;\n",
              "      border-right-color: var(--fill-color);\n",
              "      border-top-color: var(--fill-color);\n",
              "    }\n",
              "    60% {\n",
              "      border-color: transparent;\n",
              "      border-right-color: var(--fill-color);\n",
              "    }\n",
              "    80% {\n",
              "      border-color: transparent;\n",
              "      border-right-color: var(--fill-color);\n",
              "      border-bottom-color: var(--fill-color);\n",
              "    }\n",
              "    90% {\n",
              "      border-color: transparent;\n",
              "      border-bottom-color: var(--fill-color);\n",
              "    }\n",
              "  }\n",
              "</style>\n",
              "\n",
              "  <script>\n",
              "    async function quickchart(key) {\n",
              "      const quickchartButtonEl =\n",
              "        document.querySelector('#' + key + ' button');\n",
              "      quickchartButtonEl.disabled = true;  // To prevent multiple clicks.\n",
              "      quickchartButtonEl.classList.add('colab-df-spinner');\n",
              "      try {\n",
              "        const charts = await google.colab.kernel.invokeFunction(\n",
              "            'suggestCharts', [key], {});\n",
              "      } catch (error) {\n",
              "        console.error('Error during call to suggestCharts:', error);\n",
              "      }\n",
              "      quickchartButtonEl.classList.remove('colab-df-spinner');\n",
              "      quickchartButtonEl.classList.add('colab-df-quickchart-complete');\n",
              "    }\n",
              "    (() => {\n",
              "      let quickchartButtonEl =\n",
              "        document.querySelector('#df-156c30e0-c5e3-4cec-a9e1-b0640776f6f2 button');\n",
              "      quickchartButtonEl.style.display =\n",
              "        google.colab.kernel.accessAllowed ? 'block' : 'none';\n",
              "    })();\n",
              "  </script>\n",
              "</div>\n",
              "\n",
              "    </div>\n",
              "  </div>\n"
            ],
            "application/vnd.google.colaboratory.intrinsic+json": {
              "type": "dataframe",
              "variable_name": "df",
              "summary": "{\n  \"name\": \"df\",\n  \"rows\": 48843,\n  \"fields\": [\n    {\n      \"column\": \"age\",\n      \"properties\": {\n        \"dtype\": \"category\",\n        \"num_unique_values\": 147,\n        \"samples\": [\n          \"80\",\n          26,\n          \"78\"\n        ],\n        \"semantic_type\": \"\",\n        \"description\": \"\"\n      }\n    },\n    {\n      \"column\": \"workclass\",\n      \"properties\": {\n        \"dtype\": \"category\",\n        \"num_unique_values\": 9,\n        \"samples\": [\n          \" Without-pay\",\n          \" Self-emp-not-inc\",\n          \" ?\"\n        ],\n        \"semantic_type\": \"\",\n        \"description\": \"\"\n      }\n    },\n    {\n      \"column\": \"fnlwgt\",\n      \"properties\": {\n        \"dtype\": \"number\",\n        \"std\": 105604.02542315728,\n        \"min\": 12285.0,\n        \"max\": 1490400.0,\n        \"num_unique_values\": 28523,\n        \"samples\": [\n          159077.0,\n          199450.0,\n          181773.0\n        ],\n        \"semantic_type\": \"\",\n        \"description\": \"\"\n      }\n    },\n    {\n      \"column\": \"education\",\n      \"properties\": {\n        \"dtype\": \"category\",\n        \"num_unique_values\": 16,\n        \"samples\": [\n          \" Bachelors\",\n          \" HS-grad\",\n          \" Some-college\"\n        ],\n        \"semantic_type\": \"\",\n        \"description\": \"\"\n      }\n    },\n    {\n      \"column\": \"education-num\",\n      \"properties\": {\n        \"dtype\": \"number\",\n        \"std\": 2.5709727555922566,\n        \"min\": 1.0,\n        \"max\": 16.0,\n        \"num_unique_values\": 16,\n        \"samples\": [\n          13.0,\n          9.0,\n          10.0\n        ],\n        \"semantic_type\": \"\",\n        \"description\": \"\"\n      }\n    },\n    {\n      \"column\": \"marital-status\",\n      \"properties\": {\n        \"dtype\": \"category\",\n        \"num_unique_values\": 7,\n        \"samples\": [\n          \" Never-married\",\n          \" Married-civ-spouse\",\n          \" Married-AF-spouse\"\n        ],\n        \"semantic_type\": \"\",\n        \"description\": \"\"\n      }\n    },\n    {\n      \"column\": \"occupation\",\n      \"properties\": {\n        \"dtype\": \"category\",\n        \"num_unique_values\": 15,\n        \"samples\": [\n          \" Machine-op-inspct\",\n          \" ?\",\n          \" Adm-clerical\"\n        ],\n        \"semantic_type\": \"\",\n        \"description\": \"\"\n      }\n    },\n    {\n      \"column\": \"relationship\",\n      \"properties\": {\n        \"dtype\": \"category\",\n        \"num_unique_values\": 6,\n        \"samples\": [\n          \" Not-in-family\",\n          \" Husband\",\n          \" Other-relative\"\n        ],\n        \"semantic_type\": \"\",\n        \"description\": \"\"\n      }\n    },\n    {\n      \"column\": \"race\",\n      \"properties\": {\n        \"dtype\": \"category\",\n        \"num_unique_values\": 5,\n        \"samples\": [\n          \" Black\",\n          \" Other\",\n          \" Asian-Pac-Islander\"\n        ],\n        \"semantic_type\": \"\",\n        \"description\": \"\"\n      }\n    },\n    {\n      \"column\": \"sex\",\n      \"properties\": {\n        \"dtype\": \"category\",\n        \"num_unique_values\": 2,\n        \"samples\": [\n          \" Female\",\n          \" Male\"\n        ],\n        \"semantic_type\": \"\",\n        \"description\": \"\"\n      }\n    },\n    {\n      \"column\": \"capital-gain\",\n      \"properties\": {\n        \"dtype\": \"number\",\n        \"std\": 7452.019057655394,\n        \"min\": 0.0,\n        \"max\": 99999.0,\n        \"num_unique_values\": 123,\n        \"samples\": [\n          2176.0,\n          10520.0\n        ],\n        \"semantic_type\": \"\",\n        \"description\": \"\"\n      }\n    },\n    {\n      \"column\": \"capital-loss\",\n      \"properties\": {\n        \"dtype\": \"number\",\n        \"std\": 403.00455212435907,\n        \"min\": 0.0,\n        \"max\": 4356.0,\n        \"num_unique_values\": 99,\n        \"samples\": [\n          1974.0,\n          419.0\n        ],\n        \"semantic_type\": \"\",\n        \"description\": \"\"\n      }\n    },\n    {\n      \"column\": \"hours-per-week\",\n      \"properties\": {\n        \"dtype\": \"number\",\n        \"std\": 12.391444024252307,\n        \"min\": 1.0,\n        \"max\": 99.0,\n        \"num_unique_values\": 96,\n        \"samples\": [\n          97.0,\n          88.0\n        ],\n        \"semantic_type\": \"\",\n        \"description\": \"\"\n      }\n    },\n    {\n      \"column\": \"native-country\",\n      \"properties\": {\n        \"dtype\": \"category\",\n        \"num_unique_values\": 42,\n        \"samples\": [\n          \" El-Salvador\",\n          \" Philippines\"\n        ],\n        \"semantic_type\": \"\",\n        \"description\": \"\"\n      }\n    },\n    {\n      \"column\": \"income\",\n      \"properties\": {\n        \"dtype\": \"category\",\n        \"num_unique_values\": 4,\n        \"samples\": [\n          \" >50K\",\n          \" >50K.\"\n        ],\n        \"semantic_type\": \"\",\n        \"description\": \"\"\n      }\n    }\n  ]\n}"
            }
          },
          "metadata": {},
          "execution_count": 4
        }
      ]
    },
    {
      "cell_type": "markdown",
      "source": [
        "#Data Cleaning"
      ],
      "metadata": {
        "id": "ynWSy3aCP3nV"
      }
    },
    {
      "cell_type": "code",
      "source": [
        "df = df.dropna()\n",
        "df['age'] = df['age'].astype(int)"
      ],
      "metadata": {
        "colab": {
          "base_uri": "https://localhost:8080/"
        },
        "id": "TBx_zrIUWz9w",
        "outputId": "19439b39-34e7-4d0d-eedd-fb81f9011f26"
      },
      "execution_count": 5,
      "outputs": [
        {
          "output_type": "stream",
          "name": "stderr",
          "text": [
            "<ipython-input-5-e9d7cdf1b22e>:2: SettingWithCopyWarning: \n",
            "A value is trying to be set on a copy of a slice from a DataFrame.\n",
            "Try using .loc[row_indexer,col_indexer] = value instead\n",
            "\n",
            "See the caveats in the documentation: https://pandas.pydata.org/pandas-docs/stable/user_guide/indexing.html#returning-a-view-versus-a-copy\n",
            "  df['age'] = df['age'].astype(int)\n"
          ]
        }
      ]
    },
    {
      "cell_type": "code",
      "source": [
        "df.shape"
      ],
      "metadata": {
        "colab": {
          "base_uri": "https://localhost:8080/"
        },
        "id": "PExyqM5QdYrm",
        "outputId": "577fd490-157e-4a01-8130-ec2405fae2ec"
      },
      "execution_count": 6,
      "outputs": [
        {
          "output_type": "execute_result",
          "data": {
            "text/plain": [
              "(48842, 15)"
            ]
          },
          "metadata": {},
          "execution_count": 6
        }
      ]
    },
    {
      "cell_type": "code",
      "source": [
        "# Count '?' occurrences in each column\n",
        "question_mark_counts = (df == ' ?').sum()\n",
        "\n",
        "# Filter out columns with at least one '?'\n",
        "columns_with_question_mark = question_mark_counts[question_mark_counts > 0]\n",
        "\n",
        "print(\"Columns with '?' values and their counts:\")\n",
        "print(columns_with_question_mark)\n"
      ],
      "metadata": {
        "colab": {
          "base_uri": "https://localhost:8080/"
        },
        "id": "cXV2BDS5ST0-",
        "outputId": "19d13620-cc39-4b9c-f74a-82e3dcf425ff"
      },
      "execution_count": 7,
      "outputs": [
        {
          "output_type": "stream",
          "name": "stdout",
          "text": [
            "Columns with '?' values and their counts:\n",
            "workclass         2799\n",
            "occupation        2809\n",
            "native-country     857\n",
            "dtype: int64\n"
          ]
        }
      ]
    },
    {
      "cell_type": "code",
      "source": [
        "# Remove rows with '?' values\n",
        "df = df[~df.isin([' ?']).any(axis=1)]\n",
        "\n",
        "# Reset index\n",
        "df.reset_index(drop=True, inplace=True)\n",
        "\n",
        "print(df.head())\n",
        "\n"
      ],
      "metadata": {
        "id": "LHfbPuyfz5Tf",
        "colab": {
          "base_uri": "https://localhost:8080/"
        },
        "outputId": "ed01924d-0dc6-4b1c-a1fc-726b19521346"
      },
      "execution_count": 8,
      "outputs": [
        {
          "output_type": "stream",
          "name": "stdout",
          "text": [
            "   age          workclass    fnlwgt   education  education-num  \\\n",
            "0   39          State-gov   77516.0   Bachelors           13.0   \n",
            "1   50   Self-emp-not-inc   83311.0   Bachelors           13.0   \n",
            "2   38            Private  215646.0     HS-grad            9.0   \n",
            "3   53            Private  234721.0        11th            7.0   \n",
            "4   28            Private  338409.0   Bachelors           13.0   \n",
            "\n",
            "        marital-status          occupation    relationship    race      sex  \\\n",
            "0        Never-married        Adm-clerical   Not-in-family   White     Male   \n",
            "1   Married-civ-spouse     Exec-managerial         Husband   White     Male   \n",
            "2             Divorced   Handlers-cleaners   Not-in-family   White     Male   \n",
            "3   Married-civ-spouse   Handlers-cleaners         Husband   Black     Male   \n",
            "4   Married-civ-spouse      Prof-specialty            Wife   Black   Female   \n",
            "\n",
            "   capital-gain  capital-loss  hours-per-week  native-country  income  \n",
            "0        2174.0           0.0            40.0   United-States   <=50K  \n",
            "1           0.0           0.0            13.0   United-States   <=50K  \n",
            "2           0.0           0.0            40.0   United-States   <=50K  \n",
            "3           0.0           0.0            40.0   United-States   <=50K  \n",
            "4           0.0           0.0            40.0            Cuba   <=50K  \n"
          ]
        }
      ]
    },
    {
      "cell_type": "code",
      "source": [
        "df.shape"
      ],
      "metadata": {
        "colab": {
          "base_uri": "https://localhost:8080/"
        },
        "id": "X2wHwjJ8ThYH",
        "outputId": "383a7179-09ea-4edd-8e77-c80209ad26ba"
      },
      "execution_count": 9,
      "outputs": [
        {
          "output_type": "execute_result",
          "data": {
            "text/plain": [
              "(45222, 15)"
            ]
          },
          "metadata": {},
          "execution_count": 9
        }
      ]
    },
    {
      "cell_type": "code",
      "source": [
        "# Count '?' occurrences in each column\n",
        "question_mark_counts = (df == ' ?').sum()\n",
        "\n",
        "# Filter out columns with at least one '?'\n",
        "columns_with_question_mark = question_mark_counts[question_mark_counts > 0]\n",
        "\n",
        "print(\"Columns with '?' values and their counts:\")\n",
        "print(columns_with_question_mark)"
      ],
      "metadata": {
        "colab": {
          "base_uri": "https://localhost:8080/"
        },
        "id": "qKcVITQ6LRdm",
        "outputId": "4021a8bc-bfbb-446d-e6ad-e9d867354d7b"
      },
      "execution_count": 10,
      "outputs": [
        {
          "output_type": "stream",
          "name": "stdout",
          "text": [
            "Columns with '?' values and their counts:\n",
            "Series([], dtype: int64)\n"
          ]
        }
      ]
    },
    {
      "cell_type": "code",
      "source": [
        "df['income'] = df['income'].map({' <=50K': '<=50K',\n",
        "                                 ' <=50K.': '<=50K',\n",
        "                                 ' >50K': '>50K',\n",
        "                                 ' >50K.': '>50K'})"
      ],
      "metadata": {
        "id": "iCKCyZGYW3ve"
      },
      "execution_count": 11,
      "outputs": []
    },
    {
      "cell_type": "code",
      "source": [],
      "metadata": {
        "id": "mL-zaneWYE7d"
      },
      "execution_count": 11,
      "outputs": []
    },
    {
      "cell_type": "markdown",
      "source": [
        "#Data Descibing"
      ],
      "metadata": {
        "id": "n5b3YPy1TH-8"
      }
    },
    {
      "cell_type": "code",
      "source": [
        "import matplotlib.pyplot as plt\n",
        "\n",
        "plt.figure(figsize=(10, 6))\n",
        "plt.hist(df['age'], bins=20, color='skyblue', edgecolor='black')\n",
        "plt.title('Distribution of Age')\n",
        "plt.xlabel('Age')\n",
        "plt.ylabel('Frequency')\n",
        "plt.show()\n"
      ],
      "metadata": {
        "id": "4od8l3vZL-FD",
        "colab": {
          "base_uri": "https://localhost:8080/",
          "height": 564
        },
        "outputId": "c3910e31-6155-4b91-8678-c8ee7b8d393a"
      },
      "execution_count": 12,
      "outputs": [
        {
          "output_type": "display_data",
          "data": {
            "text/plain": [
              "<Figure size 1000x600 with 1 Axes>"
            ],
            "image/png": "[encoded data removed]"
          },
          "metadata": {}
        }
      ]
    },
    {
      "cell_type": "code",
      "source": [
        "import seaborn as sns\n",
        "\n",
        "plt.figure(figsize=(12, 6))\n",
        "sns.boxplot(x='income', y='education', data=df, orient='h', palette='viridis')\n",
        "plt.title('Income Distribution by Education Level')\n",
        "plt.xlabel('Income')\n",
        "plt.ylabel('Education Level')\n",
        "plt.show()\n"
      ],
      "metadata": {
        "colab": {
          "base_uri": "https://localhost:8080/",
          "height": 655
        },
        "id": "T8KUseZByaZo",
        "outputId": "c1817b44-7bf4-4850-b758-addff88e38d5"
      },
      "execution_count": 13,
      "outputs": [
        {
          "output_type": "stream",
          "name": "stderr",
          "text": [
            "<ipython-input-13-74065cfd2e90>:4: FutureWarning: \n",
            "\n",
            "Passing `palette` without assigning `hue` is deprecated and will be removed in v0.14.0. Assign the `y` variable to `hue` and set `legend=False` for the same effect.\n",
            "\n",
            "  sns.boxplot(x='income', y='education', data=df, orient='h', palette='viridis')\n"
          ]
        },
        {
          "output_type": "display_data",
          "data": {
            "text/plain": [
              "<Figure size 1200x600 with 1 Axes>"
            ],
            "image/png": "[encoded data removed]"
          },
          "metadata": {}
        }
      ]
    },
    {
      "cell_type": "code",
      "source": [
        "plt.figure(figsize=(10, 6))\n",
        "df['workclass'].value_counts().plot(kind='bar', color='salmon')\n",
        "plt.title('Distribution of Workclass')\n",
        "plt.xlabel('Workclass')\n",
        "plt.ylabel('Frequency')\n",
        "plt.show()\n"
      ],
      "metadata": {
        "colab": {
          "base_uri": "https://localhost:8080/",
          "height": 668
        },
        "id": "jPVu0QnRyeFg",
        "outputId": "6decce7c-b52a-4822-b3bf-fd6517de3627"
      },
      "execution_count": 14,
      "outputs": [
        {
          "output_type": "display_data",
          "data": {
            "text/plain": [
              "<Figure size 1000x600 with 1 Axes>"
            ],
            "image/png": "[encoded data removed]"
          },
          "metadata": {}
        }
      ]
    },
    {
      "cell_type": "code",
      "source": [
        "plt.figure(figsize=(10, 6))\n",
        "plt.scatter(df['capital-gain'], df['capital-loss'], alpha=0.5, color='purple')\n",
        "plt.title('Capital Gain vs. Capital Loss')\n",
        "plt.xlabel('Capital Gain')\n",
        "plt.ylabel('Capital Loss')\n",
        "plt.show()"
      ],
      "metadata": {
        "colab": {
          "base_uri": "https://localhost:8080/",
          "height": 564
        },
        "id": "JfIodQWzyfyt",
        "outputId": "fad9cc56-c36a-4766-c1b5-04c1e32b3e60"
      },
      "execution_count": 15,
      "outputs": [
        {
          "output_type": "display_data",
          "data": {
            "text/plain": [
              "<Figure size 1000x600 with 1 Axes>"
            ],
            "image/png": "[encoded data removed]"
          },
          "metadata": {}
        }
      ]
    },
    {
      "cell_type": "code",
      "source": [
        "plt.figure(figsize=(8, 5))\n",
        "sns.countplot(x='sex', hue='income', data=df, palette='Set2')\n",
        "plt.title('Income Distribution by Gender')\n",
        "plt.xlabel('Gender')\n",
        "plt.ylabel('Count')\n",
        "plt.show()\n"
      ],
      "metadata": {
        "colab": {
          "base_uri": "https://localhost:8080/",
          "height": 487
        },
        "id": "gY5Epe1_yhhx",
        "outputId": "8018f57b-3322-447a-bfc1-3b95bf6046e3"
      },
      "execution_count": 16,
      "outputs": [
        {
          "output_type": "display_data",
          "data": {
            "text/plain": [
              "<Figure size 800x500 with 1 Axes>"
            ],
            "image/png": "[encoded data removed]"
          },
          "metadata": {}
        }
      ]
    },
    {
      "cell_type": "code",
      "source": [
        "plt.figure(figsize=(8, 5))\n",
        "sns.countplot(x='race', hue='income', data=df, palette='Set2')\n",
        "plt.title('Income Distribution by Race')\n",
        "plt.xlabel('Race')\n",
        "plt.ylabel('Count')\n",
        "plt.show()\n"
      ],
      "metadata": {
        "colab": {
          "base_uri": "https://localhost:8080/",
          "height": 487
        },
        "id": "Ve_sAwT5ppJl",
        "outputId": "60a1e468-c8b5-405a-f01d-be63a53f9cf3"
      },
      "execution_count": 17,
      "outputs": [
        {
          "output_type": "display_data",
          "data": {
            "text/plain": [
              "<Figure size 800x500 with 1 Axes>"
            ],
            "image/png": "[encoded data removed]"
          },
          "metadata": {}
        }
      ]
    },
    {
      "cell_type": "code",
      "source": [],
      "metadata": {
        "id": "WCvMWcnCA-tk"
      },
      "execution_count": 17,
      "outputs": []
    },
    {
      "cell_type": "markdown",
      "source": [
        "#Data Preprocessing"
      ],
      "metadata": {
        "id": "ewdkx685B1Cg"
      }
    },
    {
      "cell_type": "code",
      "source": [
        "def onehot_encode(df, column, prefix):\n",
        "    df = df.copy()\n",
        "\n",
        "    dummies = pd.get_dummies(df[column], prefix=prefix)\n",
        "    df = pd.concat([df, dummies], axis=1)\n",
        "    df = df.drop(column, axis=1)\n",
        "\n",
        "    return df"
      ],
      "metadata": {
        "id": "WW4IKWCCA3EV"
      },
      "execution_count": 18,
      "outputs": []
    },
    {
      "cell_type": "code",
      "source": [
        "from sklearn.preprocessing import OneHotEncoder, LabelEncoder\n",
        "from sklearn.impute import SimpleImputer\n",
        "from sklearn.compose import ColumnTransformer\n",
        "from sklearn.pipeline import Pipeline\n",
        "from sklearn.model_selection import train_test_split\n",
        "import pandas as pd\n",
        "\n",
        "# Initialize LabelEncoder\n",
        "label_encoder = LabelEncoder()\n",
        "\n",
        "# Copy DataFrame\n",
        "preprocessed_df = df.copy()\n",
        "\n",
        "preprocessed_df = preprocessed_df.dropna()\n",
        "preprocessed_df['age'] = preprocessed_df['age'].astype(int)\n",
        "\n",
        "occupation_column = preprocessed_df['occupation']\n",
        "label_encoder.fit(occupation_column)\n",
        "preprocessed_df['occupation'] = label_encoder.transform(occupation_column)\n",
        "\n",
        "native_country_column = preprocessed_df['native-country']\n",
        "label_encoder.fit(native_country_column)\n",
        "preprocessed_df['native-country'] = label_encoder.transform(native_country_column)\n",
        "\n",
        "\n",
        "preprocessed_df['income'] = label_encoder.fit_transform(preprocessed_df['income'])\n",
        "preprocessed_df = preprocessed_df.dropna(subset=['income'])\n",
        "\n",
        "\n",
        "preprocessed_df = onehot_encode(\n",
        "    preprocessed_df,\n",
        "    column='workclass',\n",
        "    prefix='workclass'\n",
        ")\n",
        "preprocessed_df = onehot_encode(\n",
        "    preprocessed_df,\n",
        "    column='marital-status',\n",
        "    prefix='marital-status'\n",
        ")\n",
        "preprocessed_df = onehot_encode(\n",
        "    preprocessed_df,\n",
        "    column='relationship',\n",
        "    prefix='relationship'\n",
        ")\n",
        "preprocessed_df = onehot_encode(\n",
        "    preprocessed_df,\n",
        "    column='race',\n",
        "    prefix='race'\n",
        ")\n",
        "preprocessed_df = onehot_encode(\n",
        "    preprocessed_df,\n",
        "    column='sex',\n",
        "    prefix='sex'\n",
        ")\n",
        "\n",
        "\n",
        "preprocessed_df.drop('education', axis=1, inplace=True)\n",
        "preprocessed_df.dropna(inplace = True)\n",
        "\n",
        "# Separate features and target variable\n",
        "x = preprocessed_df.drop('income', axis=1)\n",
        "y = preprocessed_df['income'].copy()\n",
        "print(x.shape)\n",
        "print(y.shape)\n"
      ],
      "metadata": {
        "colab": {
          "base_uri": "https://localhost:8080/"
        },
        "id": "jnyj3WT9B5p3",
        "outputId": "e29eb0d6-c8c4-40f8-8506-98cb9af24b6a"
      },
      "execution_count": 19,
      "outputs": [
        {
          "output_type": "stream",
          "name": "stdout",
          "text": [
            "(45222, 35)\n",
            "(45222,)\n"
          ]
        }
      ]
    },
    {
      "cell_type": "code",
      "source": [
        "print(preprocessed_df.columns)\n",
        "# Calculate Pearson correlation coefficients\n",
        "correlation_matrix = preprocessed_df.corr()\n",
        "\n",
        "# Select correlation with the income_num variable\n",
        "income_correlation = correlation_matrix['income'].drop('income')\n",
        "\n",
        "print(\"Pearson Correlation with income_num:\")\n",
        "print(income_correlation)\n"
      ],
      "metadata": {
        "colab": {
          "base_uri": "https://localhost:8080/"
        },
        "id": "fwJ7M9nV0A-_",
        "outputId": "aa01c087-7092-450c-d075-11b02f0cbb12"
      },
      "execution_count": 20,
      "outputs": [
        {
          "output_type": "stream",
          "name": "stdout",
          "text": [
            "Index(['age', 'fnlwgt', 'education-num', 'occupation', 'capital-gain',\n",
            "       'capital-loss', 'hours-per-week', 'native-country', 'income',\n",
            "       'workclass_ Federal-gov', 'workclass_ Local-gov', 'workclass_ Private',\n",
            "       'workclass_ Self-emp-inc', 'workclass_ Self-emp-not-inc',\n",
            "       'workclass_ State-gov', 'workclass_ Without-pay',\n",
            "       'marital-status_ Divorced', 'marital-status_ Married-AF-spouse',\n",
            "       'marital-status_ Married-civ-spouse',\n",
            "       'marital-status_ Married-spouse-absent',\n",
            "       'marital-status_ Never-married', 'marital-status_ Separated',\n",
            "       'marital-status_ Widowed', 'relationship_ Husband',\n",
            "       'relationship_ Not-in-family', 'relationship_ Other-relative',\n",
            "       'relationship_ Own-child', 'relationship_ Unmarried',\n",
            "       'relationship_ Wife', 'race_ Amer-Indian-Eskimo',\n",
            "       'race_ Asian-Pac-Islander', 'race_ Black', 'race_ Other', 'race_ White',\n",
            "       'sex_ Female', 'sex_ Male'],\n",
            "      dtype='object')\n",
            "Pearson Correlation with income_num:\n",
            "age                                      0.237040\n",
            "fnlwgt                                  -0.007264\n",
            "education-num                            0.332800\n",
            "occupation                               0.049787\n",
            "capital-gain                             0.221034\n",
            "capital-loss                             0.148687\n",
            "hours-per-week                           0.227199\n",
            "native-country                           0.020103\n",
            "workclass_ Federal-gov                   0.059174\n",
            "workclass_ Local-gov                     0.029731\n",
            "workclass_ Private                      -0.116721\n",
            "workclass_ Self-emp-inc                  0.137845\n",
            "workclass_ Self-emp-not-inc              0.021828\n",
            "workclass_ State-gov                     0.009514\n",
            "workclass_ Without-pay                  -0.007618\n",
            "marital-status_ Divorced                -0.133982\n",
            "marital-status_ Married-AF-spouse        0.011689\n",
            "marital-status_ Married-civ-spouse       0.446192\n",
            "marital-status_ Married-spouse-absent   -0.038624\n",
            "marital-status_ Never-married           -0.319536\n",
            "marital-status_ Separated               -0.073853\n",
            "marital-status_ Widowed                 -0.060443\n",
            "relationship_ Husband                    0.403706\n",
            "relationship_ Not-in-family             -0.195561\n",
            "relationship_ Other-relative            -0.085604\n",
            "relationship_ Own-child                 -0.222635\n",
            "relationship_ Unmarried                 -0.147262\n",
            "relationship_ Wife                       0.121396\n",
            "race_ Amer-Indian-Eskimo                -0.028762\n",
            "race_ Asian-Pac-Islander                 0.014102\n",
            "race_ Black                             -0.090405\n",
            "race_ Other                             -0.024727\n",
            "race_ White                              0.083481\n",
            "sex_ Female                             -0.215760\n",
            "sex_ Male                                0.215760\n",
            "Name: income, dtype: float64\n"
          ]
        }
      ]
    },
    {
      "cell_type": "code",
      "source": [
        "x = x.drop('fnlwgt', axis=1)"
      ],
      "metadata": {
        "id": "waOBNJCZ0eCS"
      },
      "execution_count": 21,
      "outputs": []
    },
    {
      "cell_type": "code",
      "source": [
        "print(\"Unique values in income_num:\", preprocessed_df['income'].unique())"
      ],
      "metadata": {
        "colab": {
          "base_uri": "https://localhost:8080/"
        },
        "id": "2T4mQnoi0Oxm",
        "outputId": "f04d34b5-9fd5-48cb-dec7-f79337ecb0d7"
      },
      "execution_count": 22,
      "outputs": [
        {
          "output_type": "stream",
          "name": "stdout",
          "text": [
            "Unique values in income_num: [0 1]\n"
          ]
        }
      ]
    },
    {
      "cell_type": "code",
      "source": [
        "# Identify columns with string values\n",
        "string_columns = preprocessed_df.select_dtypes(include=['object']).columns\n",
        "\n",
        "print(\"Columns with string values:\")\n",
        "print(string_columns)"
      ],
      "metadata": {
        "colab": {
          "base_uri": "https://localhost:8080/"
        },
        "id": "p1aheHJJpLU0",
        "outputId": "5a786ccd-1fdb-42d6-c537-6e47e16daa92"
      },
      "execution_count": 23,
      "outputs": [
        {
          "output_type": "stream",
          "name": "stdout",
          "text": [
            "Columns with string values:\n",
            "Index([], dtype='object')\n"
          ]
        }
      ]
    },
    {
      "cell_type": "markdown",
      "source": [
        "#Train-Test Split"
      ],
      "metadata": {
        "id": "zlkDCr97UF4Z"
      }
    },
    {
      "cell_type": "code",
      "source": [
        "# Splitting the data into training and testing sets (80% train, 20% test)\n",
        "x_train, x_test, y_train, y_test = train_test_split(x, y, test_size=0.2, random_state=42)\n",
        "\n",
        "# Printing the shapes of the resulting sets\n",
        "print(\"X_train shape:\", x_train.shape)\n",
        "print(\"X_test shape:\", x_test.shape)\n",
        "print(\"y_train shape:\", y_train.shape)\n",
        "print(\"y_test shape:\", y_test.shape)"
      ],
      "metadata": {
        "colab": {
          "base_uri": "https://localhost:8080/"
        },
        "id": "_s74uryyUJi-",
        "outputId": "9e72d452-0787-411a-8bb9-beda3ac34b3c"
      },
      "execution_count": 24,
      "outputs": [
        {
          "output_type": "stream",
          "name": "stdout",
          "text": [
            "X_train shape: (36177, 34)\n",
            "X_test shape: (9045, 34)\n",
            "y_train shape: (36177,)\n",
            "y_test shape: (9045,)\n"
          ]
        }
      ]
    },
    {
      "cell_type": "code",
      "source": [
        "class_counts = y_train.value_counts()\n",
        "\n",
        "print(\"Class counts in y_train:\")\n",
        "print(class_counts)"
      ],
      "metadata": {
        "colab": {
          "base_uri": "https://localhost:8080/"
        },
        "id": "CQqOWc4k_kSN",
        "outputId": "dd9a6281-f4b0-41b7-acb1-01b3ac2ff209"
      },
      "execution_count": 25,
      "outputs": [
        {
          "output_type": "stream",
          "name": "stdout",
          "text": [
            "Class counts in y_train:\n",
            "0    27269\n",
            "1     8908\n",
            "Name: income, dtype: int64\n"
          ]
        }
      ]
    },
    {
      "cell_type": "markdown",
      "source": [
        "##Imbalanced Learning"
      ],
      "metadata": {
        "id": "2MCwxRB32Qyy"
      }
    },
    {
      "cell_type": "code",
      "source": [
        "from imblearn.combine import SMOTEENN\n",
        "\n",
        "# Define the SMOTEENN sampling strategy\n",
        "smoteenn = SMOTEENN(random_state=42)\n",
        "\n",
        "# Apply SMOTEENN to the training data\n",
        "x_train_resampled, y_train_resampled = smoteenn.fit_resample(x_train, y_train)\n"
      ],
      "metadata": {
        "id": "LrgktdvD2Qjw"
      },
      "execution_count": 26,
      "outputs": []
    },
    {
      "cell_type": "code",
      "source": [
        "x_train_resampled.shape"
      ],
      "metadata": {
        "colab": {
          "base_uri": "https://localhost:8080/"
        },
        "id": "Xq67fL4Saczl",
        "outputId": "a3807665-ccc9-4b4c-81d0-b7c13a0c5836"
      },
      "execution_count": 27,
      "outputs": [
        {
          "output_type": "execute_result",
          "data": {
            "text/plain": [
              "(40224, 34)"
            ]
          },
          "metadata": {},
          "execution_count": 27
        }
      ]
    },
    {
      "cell_type": "code",
      "source": [
        "y_train_resampled.shape"
      ],
      "metadata": {
        "colab": {
          "base_uri": "https://localhost:8080/"
        },
        "id": "O7qIOKV7aj5t",
        "outputId": "064ec569-6c82-49e2-c40a-912e3460434f"
      },
      "execution_count": 28,
      "outputs": [
        {
          "output_type": "execute_result",
          "data": {
            "text/plain": [
              "(40224,)"
            ]
          },
          "metadata": {},
          "execution_count": 28
        }
      ]
    },
    {
      "cell_type": "code",
      "source": [
        "class_counts = y_train_resampled.value_counts()\n",
        "\n",
        "print(\"Class counts in y_train:\")\n",
        "print(class_counts)"
      ],
      "metadata": {
        "colab": {
          "base_uri": "https://localhost:8080/"
        },
        "id": "av5RnsYhAEE1",
        "outputId": "c2131062-ab5d-4a3c-d39f-e18a8b555ec3"
      },
      "execution_count": 29,
      "outputs": [
        {
          "output_type": "stream",
          "name": "stdout",
          "text": [
            "Class counts in y_train:\n",
            "1    21272\n",
            "0    18952\n",
            "Name: income, dtype: int64\n"
          ]
        }
      ]
    },
    {
      "cell_type": "markdown",
      "source": [
        "#Model Training"
      ],
      "metadata": {
        "id": "7JgRupGpWEHH"
      }
    },
    {
      "cell_type": "markdown",
      "source": [
        "##Hyperparameter tuning"
      ],
      "metadata": {
        "id": "PunDTfei0-7g"
      }
    },
    {
      "cell_type": "code",
      "source": [
        "from sklearn.model_selection import GridSearchCV\n",
        "from sklearn.ensemble import RandomForestClassifier\n",
        "from sklearn.metrics import classification_report\n",
        "\n",
        "# Define the grid of hyperparameters\n",
        "param_grid = {\n",
        "    'n_estimators': [50, 100, 150],  # Number of trees in the forest\n",
        "    'max_depth': [None, 10, 20],      # Maximum depth of the tree\n",
        "    'min_samples_split': [2, 5, 10],  # Minimum number of samples required to split a node\n",
        "    'min_samples_leaf': [1, 2, 4]     # Minimum number of samples required at each leaf node\n",
        "}\n",
        "\n",
        "# Instantiate the GridSearchCV object\n",
        "grid_search = GridSearchCV(estimator=RandomForestClassifier(random_state=42),\n",
        "                           param_grid=param_grid,\n",
        "                           cv=5,  # 5-fold cross-validation\n",
        "                           scoring='accuracy',  # Use accuracy as the metric\n",
        "                           n_jobs=-1)  # Use all available CPU cores\n",
        "\n",
        "# Perform hyperparameter tuning\n",
        "grid_search.fit(x_train_resampled, y_train_resampled)\n",
        "\n",
        "# Print the best parameters found\n",
        "print(\"Best Parameters:\", grid_search.best_params_)\n",
        "\n",
        "# Get the best model\n",
        "best_random_forest = grid_search.best_estimator_"
      ],
      "metadata": {
        "colab": {
          "base_uri": "https://localhost:8080/"
        },
        "id": "H68wFNhw0-JP",
        "outputId": "8c02ef38-4717-478f-9e79-91663ea3359b"
      },
      "execution_count": 30,
      "outputs": [
        {
          "output_type": "stream",
          "name": "stdout",
          "text": [
            "Best Parameters: {'max_depth': None, 'min_samples_leaf': 1, 'min_samples_split': 2, 'n_estimators': 150}\n"
          ]
        }
      ]
    },
    {
      "cell_type": "markdown",
      "source": [
        "##Model Training"
      ],
      "metadata": {
        "id": "cgSJQ1Z2CCaq"
      }
    },
    {
      "cell_type": "code",
      "source": [
        "from sklearn.naive_bayes import GaussianNB\n",
        "from sklearn.ensemble import RandomForestClassifier\n",
        "\n",
        "# Train Naïve Bayes model\n",
        "naive_bayes = GaussianNB()\n",
        "naive_bayes.fit(x_train_resampled, y_train_resampled)\n",
        "\n",
        "# Train Random Forest Classification model\n",
        "random_forest = RandomForestClassifier(max_depth= None , min_samples_leaf= 1, min_samples_split= 2, n_estimators= 150, random_state=123)\n",
        "random_forest.fit(x_train_resampled, y_train_resampled)\n"
      ],
      "metadata": {
        "id": "BJADi_fFCGXH",
        "colab": {
          "base_uri": "https://localhost:8080/",
          "height": 74
        },
        "outputId": "d4fd664f-f7d7-4158-afc2-841cc1937aad"
      },
      "execution_count": 31,
      "outputs": [
        {
          "output_type": "execute_result",
          "data": {
            "text/plain": [
              "RandomForestClassifier(n_estimators=150, random_state=123)"
            ],
            "text/html": [
              "<style>#sk-container-id-1 {color: black;background-color: white;}#sk-container-id-1 pre{padding: 0;}#sk-container-id-1 div.sk-toggleable {background-color: white;}#sk-container-id-1 label.sk-toggleable__label {cursor: pointer;display: block;width: 100%;margin-bottom: 0;padding: 0.3em;box-sizing: border-box;text-align: center;}#sk-container-id-1 label.sk-toggleable__label-arrow:before {content: \"▸\";float: left;margin-right: 0.25em;color: #696969;}#sk-container-id-1 label.sk-toggleable__label-arrow:hover:before {color: black;}#sk-container-id-1 div.sk-estimator:hover label.sk-toggleable__label-arrow:before {color: black;}#sk-container-id-1 div.sk-toggleable__content {max-height: 0;max-width: 0;overflow: hidden;text-align: left;background-color: #f0f8ff;}#sk-container-id-1 div.sk-toggleable__content pre {margin: 0.2em;color: black;border-radius: 0.25em;background-color: #f0f8ff;}#sk-container-id-1 input.sk-toggleable__control:checked~div.sk-toggleable__content {max-height: 200px;max-width: 100%;overflow: auto;}#sk-container-id-1 input.sk-toggleable__control:checked~label.sk-toggleable__label-arrow:before {content: \"▾\";}#sk-container-id-1 div.sk-estimator input.sk-toggleable__control:checked~label.sk-toggleable__label {background-color: #d4ebff;}#sk-container-id-1 div.sk-label input.sk-toggleable__control:checked~label.sk-toggleable__label {background-color: #d4ebff;}#sk-container-id-1 input.sk-hidden--visually {border: 0;clip: rect(1px 1px 1px 1px);clip: rect(1px, 1px, 1px, 1px);height: 1px;margin: -1px;overflow: hidden;padding: 0;position: absolute;width: 1px;}#sk-container-id-1 div.sk-estimator {font-family: monospace;background-color: #f0f8ff;border: 1px dotted black;border-radius: 0.25em;box-sizing: border-box;margin-bottom: 0.5em;}#sk-container-id-1 div.sk-estimator:hover {background-color: #d4ebff;}#sk-container-id-1 div.sk-parallel-item::after {content: \"\";width: 100%;border-bottom: 1px solid gray;flex-grow: 1;}#sk-container-id-1 div.sk-label:hover label.sk-toggleable__label {background-color: #d4ebff;}#sk-container-id-1 div.sk-serial::before {content: \"\";position: absolute;border-left: 1px solid gray;box-sizing: border-box;top: 0;bottom: 0;left: 50%;z-index: 0;}#sk-container-id-1 div.sk-serial {display: flex;flex-direction: column;align-items: center;background-color: white;padding-right: 0.2em;padding-left: 0.2em;position: relative;}#sk-container-id-1 div.sk-item {position: relative;z-index: 1;}#sk-container-id-1 div.sk-parallel {display: flex;align-items: stretch;justify-content: center;background-color: white;position: relative;}#sk-container-id-1 div.sk-item::before, #sk-container-id-1 div.sk-parallel-item::before {content: \"\";position: absolute;border-left: 1px solid gray;box-sizing: border-box;top: 0;bottom: 0;left: 50%;z-index: -1;}#sk-container-id-1 div.sk-parallel-item {display: flex;flex-direction: column;z-index: 1;position: relative;background-color: white;}#sk-container-id-1 div.sk-parallel-item:first-child::after {align-self: flex-end;width: 50%;}#sk-container-id-1 div.sk-parallel-item:last-child::after {align-self: flex-start;width: 50%;}#sk-container-id-1 div.sk-parallel-item:only-child::after {width: 0;}#sk-container-id-1 div.sk-dashed-wrapped {border: 1px dashed gray;margin: 0 0.4em 0.5em 0.4em;box-sizing: border-box;padding-bottom: 0.4em;background-color: white;}#sk-container-id-1 div.sk-label label {font-family: monospace;font-weight: bold;display: inline-block;line-height: 1.2em;}#sk-container-id-1 div.sk-label-container {text-align: center;}#sk-container-id-1 div.sk-container {/* jupyter's `normalize.less` sets `[hidden] { display: none; }` but bootstrap.min.css set `[hidden] { display: none !important; }` so we also need the `!important` here to be able to override the default hidden behavior on the sphinx rendered scikit-learn.org. See: https://github.com/scikit-learn/scikit-learn/issues/21755 */display: inline-block !important;position: relative;}#sk-container-id-1 div.sk-text-repr-fallback {display: none;}</style><div id=\"sk-container-id-1\" class=\"sk-top-container\"><div class=\"sk-text-repr-fallback\"><pre>RandomForestClassifier(n_estimators=150, random_state=123)</pre><b>In a Jupyter environment, please rerun this cell to show the HTML representation or trust the notebook. <br />On GitHub, the HTML representation is unable to render, please try loading this page with nbviewer.org.</b></div><div class=\"sk-container\" hidden><div class=\"sk-item\"><div class=\"sk-estimator sk-toggleable\"><input class=\"sk-toggleable__control sk-hidden--visually\" id=\"sk-estimator-id-1\" type=\"checkbox\" checked><label for=\"sk-estimator-id-1\" class=\"sk-toggleable__label sk-toggleable__label-arrow\">RandomForestClassifier</label><div class=\"sk-toggleable__content\"><pre>RandomForestClassifier(n_estimators=150, random_state=123)</pre></div></div></div></div></div>"
            ]
          },
          "metadata": {},
          "execution_count": 31
        }
      ]
    },
    {
      "cell_type": "markdown",
      "source": [
        "##Testing Accuracy"
      ],
      "metadata": {
        "id": "IFcDxZIpbFrc"
      }
    },
    {
      "cell_type": "code",
      "source": [
        "x = random_forest.predict(x_train_resampled)\n",
        "print(classification_report(y_train_resampled, x))\n"
      ],
      "metadata": {
        "colab": {
          "base_uri": "https://localhost:8080/"
        },
        "id": "S5fYeAAbbFL1",
        "outputId": "b2cf254f-5bd8-46ab-adfd-cce337e9213b"
      },
      "execution_count": 32,
      "outputs": [
        {
          "output_type": "stream",
          "name": "stdout",
          "text": [
            "              precision    recall  f1-score   support\n",
            "\n",
            "           0       1.00      1.00      1.00     18952\n",
            "           1       1.00      1.00      1.00     21272\n",
            "\n",
            "    accuracy                           1.00     40224\n",
            "   macro avg       1.00      1.00      1.00     40224\n",
            "weighted avg       1.00      1.00      1.00     40224\n",
            "\n"
          ]
        }
      ]
    },
    {
      "cell_type": "markdown",
      "source": [
        "##Model Testing"
      ],
      "metadata": {
        "id": "Sx8WFxruCLTC"
      }
    },
    {
      "cell_type": "code",
      "source": [
        "from sklearn.metrics import classification_report\n",
        "\n",
        "# Predict on the test set for Naïve Bayes\n",
        "y_pred_nb = naive_bayes.predict(x_test)\n",
        "print(\"\\nNaïve Bayes Classification Report:\")\n",
        "print(classification_report(y_test, y_pred_nb))\n",
        "\n",
        "# Predict on the test set for Random Forest\n",
        "y_pred_rf = random_forest.predict(x_test)\n",
        "print(\"\\nRandom Forest Classification Report:\")\n",
        "print(classification_report(y_test, y_pred_rf))"
      ],
      "metadata": {
        "id": "oSs9yPxXCOhK",
        "colab": {
          "base_uri": "https://localhost:8080/"
        },
        "outputId": "97d1f6ab-e176-4f9d-e352-9564bf517316"
      },
      "execution_count": 33,
      "outputs": [
        {
          "output_type": "stream",
          "name": "stdout",
          "text": [
            "\n",
            "Naïve Bayes Classification Report:\n",
            "              precision    recall  f1-score   support\n",
            "\n",
            "           0       0.93      0.74      0.83      6745\n",
            "           1       0.53      0.84      0.65      2300\n",
            "\n",
            "    accuracy                           0.77      9045\n",
            "   macro avg       0.73      0.79      0.74      9045\n",
            "weighted avg       0.83      0.77      0.78      9045\n",
            "\n",
            "\n",
            "Random Forest Classification Report:\n",
            "              precision    recall  f1-score   support\n",
            "\n",
            "           0       0.93      0.84      0.88      6745\n",
            "           1       0.63      0.81      0.71      2300\n",
            "\n",
            "    accuracy                           0.83      9045\n",
            "   macro avg       0.78      0.82      0.80      9045\n",
            "weighted avg       0.85      0.83      0.84      9045\n",
            "\n"
          ]
        }
      ]
    },
    {
      "cell_type": "code",
      "source": [
        "from sklearn.metrics import confusion_matrix\n",
        "import seaborn as sns\n",
        "import matplotlib.pyplot as plt\n",
        "\n",
        "# Calculate confusion matrix for Naïve Bayes\n",
        "conf_matrix_nb = confusion_matrix(y_test, y_pred_nb)\n",
        "\n",
        "# Plot confusion matrix for Naïve Bayes\n",
        "plt.figure(figsize=(8, 6))\n",
        "sns.heatmap(conf_matrix_nb, annot=True, fmt=\"d\", cmap=\"Blues\", cbar=False)\n",
        "plt.title(\"Confusion Matrix - Naïve Bayes\")\n",
        "plt.xlabel(\"Predicted Labels\")\n",
        "plt.ylabel(\"True Labels\")\n",
        "plt.show()\n",
        "\n",
        "# Calculate confusion matrix for Random Forest\n",
        "conf_matrix_rf = confusion_matrix(y_test, y_pred_rf)\n",
        "\n",
        "# Plot confusion matrix for Random Forest\n",
        "plt.figure(figsize=(8, 6))\n",
        "sns.heatmap(conf_matrix_rf, annot=True, fmt=\"d\", cmap=\"Blues\", cbar=False)\n",
        "plt.title(\"Confusion Matrix - Random Forest\")\n",
        "plt.xlabel(\"Predicted Labels\")\n",
        "plt.ylabel(\"True Labels\")\n",
        "plt.show()\n"
      ],
      "metadata": {
        "colab": {
          "base_uri": "https://localhost:8080/",
          "height": 1000
        },
        "id": "jOKqlYoqAuSl",
        "outputId": "efed7024-4b4e-4040-bc53-58518b8f9f46"
      },
      "execution_count": 34,
      "outputs": [
        {
          "output_type": "display_data",
          "data": {
            "text/plain": [
              "<Figure size 800x600 with 1 Axes>"
            ],
            "image/png": "[encoded data removed]"
          },
          "metadata": {}
        },
        {
          "output_type": "display_data",
          "data": {
            "text/plain": [
              "<Figure size 800x600 with 1 Axes>"
            ],
            "image/png": "[encoded data removed]"
          },
          "metadata": {}
        }
      ]
    },
    {
      "cell_type": "markdown",
      "source": [
        "##Testing MNB"
      ],
      "metadata": {
        "id": "SJzjptoYRayU"
      }
    },
    {
      "cell_type": "code",
      "source": [
        "from sklearn.naive_bayes import MultinomialNB\n",
        "\n",
        "\n",
        "# Initialize the MNB model\n",
        "mnb = MultinomialNB()\n",
        "\n",
        "# Train the model\n",
        "mnb.fit(x_train_resampled, y_train_resampled)\n",
        "\n",
        "# Make predictions on the test set\n",
        "y_pred = mnb.predict(x_test)\n",
        "\n",
        "\n",
        "# Print classification report\n",
        "print(\"\\nClassification Report:\")\n",
        "print(classification_report(y_test, y_pred))"
      ],
      "metadata": {
        "colab": {
          "base_uri": "https://localhost:8080/"
        },
        "id": "R3B7Nxzsgymm",
        "outputId": "2554596d-42f7-4eb5-e276-ce2cdec90193"
      },
      "execution_count": 35,
      "outputs": [
        {
          "output_type": "stream",
          "name": "stdout",
          "text": [
            "\n",
            "Classification Report:\n",
            "              precision    recall  f1-score   support\n",
            "\n",
            "           0       0.78      0.96      0.86      6745\n",
            "           1       0.66      0.23      0.34      2300\n",
            "\n",
            "    accuracy                           0.77      9045\n",
            "   macro avg       0.72      0.59      0.60      9045\n",
            "weighted avg       0.75      0.77      0.73      9045\n",
            "\n"
          ]
        }
      ]
    }
  ]
}