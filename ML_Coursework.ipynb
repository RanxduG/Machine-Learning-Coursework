{
  "nbformat": 4,
  "nbformat_minor": 0,
  "metadata": {
    "colab": {
      "provenance": [],
      "authorship_tag": "ABX9TyOIxsK9hKIs/FZEj0uCSwIR",
      "include_colab_link": true
    },
    "kernelspec": {
      "name": "python3",
      "display_name": "Python 3"
    },
    "language_info": {
      "name": "python"
    }
  },
  "cells": [
    {
      "cell_type": "markdown",
      "metadata": {
        "id": "view-in-github",
        "colab_type": "text"
      },
      "source": [
        "<a href=\"https://colab.research.google.com/github/RanxduG/Machine-Learning-Coursework/blob/main/ML_Coursework.ipynb\" target=\"_parent\"><img src=\"https://colab.research.google.com/assets/colab-badge.svg\" alt=\"Open In Colab\"/></a>"
      ]
    },
    {
      "cell_type": "markdown",
      "source": [
        "##Data Preprocessing"
      ],
      "metadata": {
        "id": "uTEX8HyaASBs"
      }
    },
    {
      "cell_type": "code",
      "execution_count": null,
      "metadata": {
        "colab": {
          "base_uri": "https://localhost:8080/"
        },
        "id": "o6B4GPpN0goe",
        "outputId": "e3cafc8a-e415-4672-fd00-f9015ceb0ded"
      },
      "outputs": [
        {
          "output_type": "stream",
          "name": "stdout",
          "text": [
            "Dataset Description:\n",
            "<class 'pandas.core.frame.DataFrame'>\n",
            "RangeIndex: 32561 entries, 0 to 32560\n",
            "Data columns (total 15 columns):\n",
            " #   Column          Non-Null Count  Dtype \n",
            "---  ------          --------------  ----- \n",
            " 0   age             32561 non-null  int64 \n",
            " 1   workclass       30725 non-null  object\n",
            " 2   fnlwgt          32561 non-null  int64 \n",
            " 3   education       32561 non-null  object\n",
            " 4   education-num   32561 non-null  int64 \n",
            " 5   marital-status  32561 non-null  object\n",
            " 6   occupation      30718 non-null  object\n",
            " 7   relationship    32561 non-null  object\n",
            " 8   race            32561 non-null  object\n",
            " 9   sex             32561 non-null  object\n",
            " 10  capital-gain    32561 non-null  int64 \n",
            " 11  capital-loss    32561 non-null  int64 \n",
            " 12  hours-per-week  32561 non-null  int64 \n",
            " 13  native-country  31978 non-null  object\n",
            " 14  income          32561 non-null  object\n",
            "dtypes: int64(6), object(9)\n",
            "memory usage: 3.7+ MB\n",
            "None\n",
            "\n",
            "Sample records:\n",
            "   age          workclass  fnlwgt   education  education-num  \\\n",
            "0   39          State-gov   77516   Bachelors             13   \n",
            "1   50   Self-emp-not-inc   83311   Bachelors             13   \n",
            "2   38            Private  215646     HS-grad              9   \n",
            "3   53            Private  234721        11th              7   \n",
            "4   28            Private  338409   Bachelors             13   \n",
            "\n",
            "        marital-status          occupation    relationship    race      sex  \\\n",
            "0        Never-married        Adm-clerical   Not-in-family   White     Male   \n",
            "1   Married-civ-spouse     Exec-managerial         Husband   White     Male   \n",
            "2             Divorced   Handlers-cleaners   Not-in-family   White     Male   \n",
            "3   Married-civ-spouse   Handlers-cleaners         Husband   Black     Male   \n",
            "4   Married-civ-spouse      Prof-specialty            Wife   Black   Female   \n",
            "\n",
            "   capital-gain  capital-loss  hours-per-week  native-country  income  \n",
            "0          2174             0              40   United-States   <=50K  \n",
            "1             0             0              13   United-States   <=50K  \n",
            "2             0             0              40   United-States   <=50K  \n",
            "3             0             0              40   United-States   <=50K  \n",
            "4             0             0              40            Cuba   <=50K  \n"
          ]
        }
      ],
      "source": [
        "import pandas as pd\n",
        "\n",
        "# Load the dataset\n",
        "url = \"https://archive.ics.uci.edu/ml/machine-learning-databases/adult/adult.data\"\n",
        "column_names = ['age', 'workclass', 'fnlwgt', 'education', 'education-num', 'marital-status',\n",
        "                'occupation', 'relationship', 'race', 'sex', 'capital-gain', 'capital-loss',\n",
        "                'hours-per-week', 'native-country', 'income']\n",
        "df = pd.read_csv(url, names=column_names, na_values=' ?')\n",
        "\n",
        "# Display brief description of the dataset\n",
        "print(\"Dataset Description:\")\n",
        "print(df.info())\n",
        "print(\"\\nSample records:\")\n",
        "print(df.head())"
      ]
    },
    {
      "cell_type": "code",
      "source": [],
      "metadata": {
        "id": "4od8l3vZL-FD"
      },
      "execution_count": null,
      "outputs": []
    },
    {
      "cell_type": "markdown",
      "source": [
        "##Data Preprocessing"
      ],
      "metadata": {
        "id": "ewdkx685B1Cg"
      }
    },
    {
      "cell_type": "code",
      "source": [
        "from sklearn.preprocessing import OneHotEncoder, LabelEncoder\n",
        "from sklearn.impute import SimpleImputer\n",
        "from sklearn.compose import ColumnTransformer\n",
        "from sklearn.pipeline import Pipeline\n",
        "from sklearn.model_selection import train_test_split\n",
        "import pandas as pd\n",
        "# Initialize LabelEncoder\n",
        "label_encoder = LabelEncoder()\n",
        "\n",
        "preprocessed_df = df.copy()\n",
        "\n",
        "\n",
        "workclass_column = preprocessed_df['workclass']\n",
        "label_encoder.fit(workclass_column)\n",
        "preprocessed_df['workclass'] = label_encoder.transform(workclass_column)\n",
        "\n",
        "education_column = preprocessed_df['education']\n",
        "label_encoder.fit(education_column)\n",
        "preprocessed_df['education'] = label_encoder.transform(education_column)\n",
        "\n",
        "marital_status_column = preprocessed_df['marital-status']\n",
        "label_encoder.fit(marital_status_column)\n",
        "preprocessed_df['marital-status'] = label_encoder.transform(marital_status_column)\n",
        "\n",
        "occupation_column = preprocessed_df['occupation']\n",
        "label_encoder.fit(occupation_column)\n",
        "preprocessed_df['occupation'] = label_encoder.transform(occupation_column)\n",
        "\n",
        "relationship_column = preprocessed_df['relationship']\n",
        "label_encoder.fit(relationship_column)\n",
        "preprocessed_df['relationship'] = label_encoder.transform(relationship_column)\n",
        "\n",
        "race_column = preprocessed_df['race']\n",
        "label_encoder.fit(race_column)\n",
        "preprocessed_df['race'] = label_encoder.transform(race_column)\n",
        "\n",
        "sex_column = preprocessed_df['sex']\n",
        "label_encoder.fit(sex_column)\n",
        "preprocessed_df['sex'] = label_encoder.transform(sex_column)\n",
        "\n",
        "native_country_column = preprocessed_df['native-country']\n",
        "label_encoder.fit(native_country_column)\n",
        "preprocessed_df['native-country'] = label_encoder.transform(native_country_column)\n",
        "\n",
        "income_column = preprocessed_df['income']\n",
        "label_encoder.fit(income_column)\n",
        "preprocessed_df['income'] = label_encoder.transform(income_column)\n",
        "\n",
        "df.dropna(inplace = True)\n",
        "print(preprocessed_df.tail())\n",
        "\n",
        "# Separate features and target variable\n",
        "x = preprocessed_df.drop('income', axis=1).values  # Convert DataFrame to NumPy array\n",
        "y = preprocessed_df['income'].copy()\n",
        "print(x.shape)\n",
        "print(y.shape)\n"
      ],
      "metadata": {
        "colab": {
          "base_uri": "https://localhost:8080/"
        },
        "id": "jnyj3WT9B5p3",
        "outputId": "bb9bac9d-aebb-4463-f0a4-1390d83ffade"
      },
      "execution_count": null,
      "outputs": [
        {
          "output_type": "stream",
          "name": "stdout",
          "text": [
            "       age  workclass  fnlwgt  education  education-num  marital-status  \\\n",
            "32556   27          2  257302          7             12               2   \n",
            "32557   40          2  154374         11              9               2   \n",
            "32558   58          2  151910         11              9               6   \n",
            "32559   22          2  201490         11              9               4   \n",
            "32560   52          3  287927         11              9               2   \n",
            "\n",
            "       occupation  relationship  race  sex  capital-gain  capital-loss  \\\n",
            "32556          12             5     4    0             0             0   \n",
            "32557           6             0     4    1             0             0   \n",
            "32558           0             4     4    0             0             0   \n",
            "32559           0             3     4    1             0             0   \n",
            "32560           3             5     4    0         15024             0   \n",
            "\n",
            "       hours-per-week  native-country  income  \n",
            "32556              38              38       0  \n",
            "32557              40              38       1  \n",
            "32558              40              38       0  \n",
            "32559              20              38       0  \n",
            "32560              40              38       1  \n",
            "(30162, 14)\n",
            "(30162,)\n"
          ]
        }
      ]
    },
    {
      "cell_type": "code",
      "source": [
        "# Identify columns with string values\n",
        "string_columns = preprocessed_df.select_dtypes(include=['object']).columns\n",
        "\n",
        "print(\"Columns with string values:\")\n",
        "print(string_columns)"
      ],
      "metadata": {
        "colab": {
          "base_uri": "https://localhost:8080/"
        },
        "id": "p1aheHJJpLU0",
        "outputId": "c55eeb95-1242-4230-b651-0541b55cda56"
      },
      "execution_count": null,
      "outputs": [
        {
          "output_type": "stream",
          "name": "stdout",
          "text": [
            "Columns with string values:\n",
            "Index([], dtype='object')\n"
          ]
        }
      ]
    },
    {
      "cell_type": "markdown",
      "source": [
        "##Train Test Split"
      ],
      "metadata": {
        "id": "Inw-IARpmIvd"
      }
    },
    {
      "cell_type": "code",
      "source": [
        "from sklearn.model_selection import train_test_split\n",
        "x_train, x_test, y_train, y_test = train_test_split(x, y, test_size = 0.2, random_state = 123)\n",
        "print(y_train.shape)"
      ],
      "metadata": {
        "colab": {
          "base_uri": "https://localhost:8080/"
        },
        "id": "A5qfv_IfmH_e",
        "outputId": "f498ffb4-6213-4621-caaf-f457ad5e6c07"
      },
      "execution_count": null,
      "outputs": [
        {
          "output_type": "stream",
          "name": "stdout",
          "text": [
            "(24129,)\n"
          ]
        }
      ]
    },
    {
      "cell_type": "markdown",
      "source": [
        "##Model Training"
      ],
      "metadata": {
        "id": "cgSJQ1Z2CCaq"
      }
    },
    {
      "cell_type": "code",
      "source": [
        "from sklearn.naive_bayes import GaussianNB\n",
        "from sklearn.ensemble import RandomForestClassifier\n",
        "\n",
        "# Train Naïve Bayes model\n",
        "naive_bayes = GaussianNB()\n",
        "naive_bayes.fit(x_train, y_train)\n",
        "\n",
        "# Train Random Forest Classification model\n",
        "random_forest = RandomForestClassifier(n_estimators=100, random_state=42)\n",
        "random_forest.fit(x_train, y_train)\n",
        "\n",
        "# Evaluation\n",
        "from sklearn.metrics import classification_report\n",
        "\n",
        "# Predict on the test set for Naïve Bayes\n",
        "y_pred_nb = naive_bayes.predict(x_test)\n",
        "print(\"\\nNaïve Bayes Classification Report:\")\n",
        "print(classification_report(y_test, y_pred_nb))\n",
        "\n",
        "# Predict on the test set for Random Forest\n",
        "y_pred_rf = random_forest.predict(x_test)\n",
        "print(\"\\nRandom Forest Classification Report:\")\n",
        "print(classification_report(y_test, y_pred_rf))\n"
      ],
      "metadata": {
        "id": "BJADi_fFCGXH",
        "colab": {
          "base_uri": "https://localhost:8080/"
        },
        "outputId": "2b3eadae-51c0-4981-cb16-aa2659a1d3c6"
      },
      "execution_count": null,
      "outputs": [
        {
          "output_type": "stream",
          "name": "stdout",
          "text": [
            "\n",
            "Naïve Bayes Classification Report:\n",
            "              precision    recall  f1-score   support\n",
            "\n",
            "           0       0.81      0.95      0.87      4541\n",
            "           1       0.66      0.31      0.43      1492\n",
            "\n",
            "    accuracy                           0.79      6033\n",
            "   macro avg       0.73      0.63      0.65      6033\n",
            "weighted avg       0.77      0.79      0.76      6033\n",
            "\n",
            "\n",
            "Random Forest Classification Report:\n",
            "              precision    recall  f1-score   support\n",
            "\n",
            "           0       0.89      0.93      0.91      4541\n",
            "           1       0.75      0.65      0.69      1492\n",
            "\n",
            "    accuracy                           0.86      6033\n",
            "   macro avg       0.82      0.79      0.80      6033\n",
            "weighted avg       0.85      0.86      0.86      6033\n",
            "\n"
          ]
        }
      ]
    },
    {
      "cell_type": "markdown",
      "source": [
        "##Model Testing"
      ],
      "metadata": {
        "id": "Sx8WFxruCLTC"
      }
    },
    {
      "cell_type": "code",
      "source": [],
      "metadata": {
        "id": "oSs9yPxXCOhK"
      },
      "execution_count": null,
      "outputs": []
    }
  ]
}