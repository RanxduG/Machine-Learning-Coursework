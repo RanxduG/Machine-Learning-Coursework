{
  "nbformat": 4,
  "nbformat_minor": 0,
  "metadata": {
    "colab": {
      "provenance": [],
      "authorship_tag": "ABX9TyPcLj747V6hilF06Btdu+it",
      "include_colab_link": true
    },
    "kernelspec": {
      "name": "python3",
      "display_name": "Python 3"
    },
    "language_info": {
      "name": "python"
    }
  },
  "cells": [
    {
      "cell_type": "markdown",
      "metadata": {
        "id": "view-in-github",
        "colab_type": "text"
      },
      "source": [
        "<a href=\"https://colab.research.google.com/github/RanxduG/Machine-Learning-Coursework/blob/main/Data_Engineering_Coursework.ipynb\" target=\"_parent\"><img src=\"https://colab.research.google.com/assets/colab-badge.svg\" alt=\"Open In Colab\"/></a>"
      ]
    },
    {
      "cell_type": "markdown",
      "source": [
        "#Importing Libraries"
      ],
      "metadata": {
        "id": "lmS9N7BXRfiK"
      }
    },
    {
      "cell_type": "code",
      "execution_count": 1,
      "metadata": {
        "colab": {
          "base_uri": "https://localhost:8080/"
        },
        "id": "C5d05T2Nj8cY",
        "outputId": "7335eefe-2083-4a9c-86a7-2082acde76cb"
      },
      "outputs": [
        {
          "output_type": "stream",
          "name": "stdout",
          "text": [
            "Collecting pyspark\n",
            "  Downloading pyspark-3.5.1.tar.gz (317.0 MB)\n",
            "\u001b[2K     \u001b[90m━━━━━━━━━━━━━━━━━━━━━━━━━━━━━━━━━━━━━━━━\u001b[0m \u001b[32m317.0/317.0 MB\u001b[0m \u001b[31m2.7 MB/s\u001b[0m eta \u001b[36m0:00:00\u001b[0m\n",
            "\u001b[?25h  Preparing metadata (setup.py) ... \u001b[?25l\u001b[?25hdone\n",
            "Requirement already satisfied: py4j==0.10.9.7 in /usr/local/lib/python3.10/dist-packages (from pyspark) (0.10.9.7)\n",
            "Building wheels for collected packages: pyspark\n",
            "  Building wheel for pyspark (setup.py) ... \u001b[?25l\u001b[?25hdone\n",
            "  Created wheel for pyspark: filename=pyspark-3.5.1-py2.py3-none-any.whl size=317488491 sha256=f47fe0b19b2f1b3286e9de51307335da47946b4ed20fc7d8315230a490f4a734\n",
            "  Stored in directory: /root/.cache/pip/wheels/80/1d/60/2c256ed38dddce2fdd93be545214a63e02fbd8d74fb0b7f3a6\n",
            "Successfully built pyspark\n",
            "Installing collected packages: pyspark\n",
            "Successfully installed pyspark-3.5.1\n",
            "The following additional packages will be installed:\n",
            "  libxtst6 openjdk-8-jre-headless\n",
            "Suggested packages:\n",
            "  openjdk-8-demo openjdk-8-source libnss-mdns fonts-dejavu-extra fonts-nanum fonts-ipafont-gothic\n",
            "  fonts-ipafont-mincho fonts-wqy-microhei fonts-wqy-zenhei fonts-indic\n",
            "The following NEW packages will be installed:\n",
            "  libxtst6 openjdk-8-jdk-headless openjdk-8-jre-headless\n",
            "0 upgraded, 3 newly installed, 0 to remove and 45 not upgraded.\n",
            "Need to get 39.7 MB of archives.\n",
            "After this operation, 144 MB of additional disk space will be used.\n",
            "Selecting previously unselected package libxtst6:amd64.\n",
            "(Reading database ... 121753 files and directories currently installed.)\n",
            "Preparing to unpack .../libxtst6_2%3a1.2.3-1build4_amd64.deb ...\n",
            "Unpacking libxtst6:amd64 (2:1.2.3-1build4) ...\n",
            "Selecting previously unselected package openjdk-8-jre-headless:amd64.\n",
            "Preparing to unpack .../openjdk-8-jre-headless_8u402-ga-2ubuntu1~22.04_amd64.deb ...\n",
            "Unpacking openjdk-8-jre-headless:amd64 (8u402-ga-2ubuntu1~22.04) ...\n",
            "Selecting previously unselected package openjdk-8-jdk-headless:amd64.\n",
            "Preparing to unpack .../openjdk-8-jdk-headless_8u402-ga-2ubuntu1~22.04_amd64.deb ...\n",
            "Unpacking openjdk-8-jdk-headless:amd64 (8u402-ga-2ubuntu1~22.04) ...\n",
            "Setting up libxtst6:amd64 (2:1.2.3-1build4) ...\n",
            "Setting up openjdk-8-jre-headless:amd64 (8u402-ga-2ubuntu1~22.04) ...\n",
            "update-alternatives: using /usr/lib/jvm/java-8-openjdk-amd64/jre/bin/orbd to provide /usr/bin/orbd (orbd) in auto mode\n",
            "update-alternatives: using /usr/lib/jvm/java-8-openjdk-amd64/jre/bin/servertool to provide /usr/bin/servertool (servertool) in auto mode\n",
            "update-alternatives: using /usr/lib/jvm/java-8-openjdk-amd64/jre/bin/tnameserv to provide /usr/bin/tnameserv (tnameserv) in auto mode\n",
            "Setting up openjdk-8-jdk-headless:amd64 (8u402-ga-2ubuntu1~22.04) ...\n",
            "update-alternatives: using /usr/lib/jvm/java-8-openjdk-amd64/bin/clhsdb to provide /usr/bin/clhsdb (clhsdb) in auto mode\n",
            "update-alternatives: using /usr/lib/jvm/java-8-openjdk-amd64/bin/extcheck to provide /usr/bin/extcheck (extcheck) in auto mode\n",
            "update-alternatives: using /usr/lib/jvm/java-8-openjdk-amd64/bin/hsdb to provide /usr/bin/hsdb (hsdb) in auto mode\n",
            "update-alternatives: using /usr/lib/jvm/java-8-openjdk-amd64/bin/idlj to provide /usr/bin/idlj (idlj) in auto mode\n",
            "update-alternatives: using /usr/lib/jvm/java-8-openjdk-amd64/bin/javah to provide /usr/bin/javah (javah) in auto mode\n",
            "update-alternatives: using /usr/lib/jvm/java-8-openjdk-amd64/bin/jhat to provide /usr/bin/jhat (jhat) in auto mode\n",
            "update-alternatives: using /usr/lib/jvm/java-8-openjdk-amd64/bin/jsadebugd to provide /usr/bin/jsadebugd (jsadebugd) in auto mode\n",
            "update-alternatives: using /usr/lib/jvm/java-8-openjdk-amd64/bin/native2ascii to provide /usr/bin/native2ascii (native2ascii) in auto mode\n",
            "update-alternatives: using /usr/lib/jvm/java-8-openjdk-amd64/bin/schemagen to provide /usr/bin/schemagen (schemagen) in auto mode\n",
            "update-alternatives: using /usr/lib/jvm/java-8-openjdk-amd64/bin/wsgen to provide /usr/bin/wsgen (wsgen) in auto mode\n",
            "update-alternatives: using /usr/lib/jvm/java-8-openjdk-amd64/bin/wsimport to provide /usr/bin/wsimport (wsimport) in auto mode\n",
            "update-alternatives: using /usr/lib/jvm/java-8-openjdk-amd64/bin/xjc to provide /usr/bin/xjc (xjc) in auto mode\n",
            "Processing triggers for libc-bin (2.35-0ubuntu3.4) ...\n",
            "/sbin/ldconfig.real: /usr/local/lib/libtbbbind_2_0.so.3 is not a symbolic link\n",
            "\n",
            "/sbin/ldconfig.real: /usr/local/lib/libtbbbind_2_5.so.3 is not a symbolic link\n",
            "\n",
            "/sbin/ldconfig.real: /usr/local/lib/libtbbbind.so.3 is not a symbolic link\n",
            "\n",
            "/sbin/ldconfig.real: /usr/local/lib/libtbbmalloc.so.2 is not a symbolic link\n",
            "\n",
            "/sbin/ldconfig.real: /usr/local/lib/libtbb.so.12 is not a symbolic link\n",
            "\n",
            "/sbin/ldconfig.real: /usr/local/lib/libtbbmalloc_proxy.so.2 is not a symbolic link\n",
            "\n"
          ]
        }
      ],
      "source": [
        "!pip install pyspark\n",
        "!pip install -U -q PyDrive\n",
        "!apt install openjdk-8-jdk-headless -qq\n",
        "import os\n",
        "os.environ[\"JAVA_HOME\"] = \"/usr/lib/jvm/java-8-openjdk-amd64\""
      ]
    },
    {
      "cell_type": "code",
      "source": [
        "import pyspark\n",
        "from pyspark.sql import SparkSession\n",
        "from pyspark.sql.types import StructType, StructField, DoubleType, StringType\n",
        "import pyspark.sql  as pyspark_sql\n",
        "from pyspark.sql.functions import col\n",
        "from pyspark import SparkContext, SparkConf\n",
        "from google.colab import drive"
      ],
      "metadata": {
        "id": "lvayeQMPkWLC"
      },
      "execution_count": 2,
      "outputs": []
    },
    {
      "cell_type": "markdown",
      "source": [
        "#Loading Dataset"
      ],
      "metadata": {
        "id": "qF_8szW9Rkjp"
      }
    },
    {
      "cell_type": "code",
      "source": [
        "# create the session\n",
        "conf = SparkConf().set(\"spark.ui.port\", \"4050\")\n",
        "\n",
        "# create the context\n",
        "sc = pyspark.SparkContext(conf=conf)\n",
        "spark = pyspark_sql.SparkSession.builder.getOrCreate()"
      ],
      "metadata": {
        "id": "AkLjoVNHkYpY"
      },
      "execution_count": 3,
      "outputs": []
    },
    {
      "cell_type": "code",
      "source": [
        "schema = StructType([\n",
        "    StructField(\"HCHO reading\", DoubleType(), True),\n",
        "    StructField(\"Location\", StringType(), True),\n",
        "    StructField(\"Current Date\", StringType(), True),\n",
        "    StructField(\"Next Date\", StringType(), True)\n",
        "])\n"
      ],
      "metadata": {
        "id": "G0c1xQiAwk1_"
      },
      "execution_count": 4,
      "outputs": []
    },
    {
      "cell_type": "code",
      "source": [
        "drive.mount(\"/content/drive\")\n",
        "\n",
        "col_mat_nuw_data = spark.read.csv(\"/content/drive/My Drive/Colab Notebooks/Data Engineering Coursework/col_mat_nuw_output.csv\", header=True, schema=schema)\n",
        "kan_data = spark.read.csv(\"/content/drive/My Drive/Colab Notebooks/Data Engineering Coursework/kan_output.csv\", header=True, schema=schema)\n",
        "mon_kur_jaf_data = spark.read.csv(\"/content/drive/My Drive/Colab Notebooks/Data Engineering Coursework/mon_kur_jaf_output.csv\", header=True, schema=schema)"
      ],
      "metadata": {
        "id": "gXAOqmcwkbpW",
        "colab": {
          "base_uri": "https://localhost:8080/"
        },
        "outputId": "f71d5111-f35c-43c9-a470-e0d3a82b507a"
      },
      "execution_count": 5,
      "outputs": [
        {
          "output_type": "stream",
          "name": "stdout",
          "text": [
            "Mounted at /content/drive\n"
          ]
        }
      ]
    },
    {
      "cell_type": "code",
      "source": [
        "print(\"Colombo, Matara & Nuwara Eliya\")\n",
        "col_mat_nuw_data.printSchema()\n",
        "\n",
        "print(\"Kandy\")\n",
        "kan_data.printSchema()\n",
        "\n",
        "print(\"Monaragala, Kurunegala & Jaffna\")\n",
        "mon_kur_jaf_data.printSchema()"
      ],
      "metadata": {
        "colab": {
          "base_uri": "https://localhost:8080/"
        },
        "id": "BX7HxCgBkft0",
        "outputId": "f52f3a9c-2b83-4e2a-80fa-12ce1c3fd167"
      },
      "execution_count": 6,
      "outputs": [
        {
          "output_type": "stream",
          "name": "stdout",
          "text": [
            "Colombo, Matara & Nuwara Eliya\n",
            "root\n",
            " |-- HCHO reading: double (nullable = true)\n",
            " |-- Location: string (nullable = true)\n",
            " |-- Current Date: string (nullable = true)\n",
            " |-- Next Date: string (nullable = true)\n",
            "\n",
            "Kandy\n",
            "root\n",
            " |-- HCHO reading: double (nullable = true)\n",
            " |-- Location: string (nullable = true)\n",
            " |-- Current Date: string (nullable = true)\n",
            " |-- Next Date: string (nullable = true)\n",
            "\n",
            "Monaragala, Kurunegala & Jaffna\n",
            "root\n",
            " |-- HCHO reading: double (nullable = true)\n",
            " |-- Location: string (nullable = true)\n",
            " |-- Current Date: string (nullable = true)\n",
            " |-- Next Date: string (nullable = true)\n",
            "\n"
          ]
        }
      ]
    },
    {
      "cell_type": "code",
      "source": [
        "col_mat_nuw_data.show()"
      ],
      "metadata": {
        "colab": {
          "base_uri": "https://localhost:8080/"
        },
        "id": "kx6qQJpMkjVa",
        "outputId": "5834b872-5157-4954-fc76-f53bdf7169be"
      },
      "execution_count": 7,
      "outputs": [
        {
          "output_type": "stream",
          "name": "stdout",
          "text": [
            "+--------------------+--------------+------------+----------+\n",
            "|        HCHO reading|      Location|Current Date| Next Date|\n",
            "+--------------------+--------------+------------+----------+\n",
            "|2.625522171968594...|Colombo Proper|  2019-01-02|2019-01-03|\n",
            "|9.852118897938794E-5|Colombo Proper|  2019-01-03|2019-01-04|\n",
            "|2.099320518114242E-4|Colombo Proper|  2019-01-04|2019-01-05|\n",
            "|1.785337298892930...|Colombo Proper|  2019-01-05|2019-01-06|\n",
            "|1.082296700235670...|Colombo Proper|  2019-01-06|2019-01-07|\n",
            "|3.926829280477309...|Colombo Proper|  2019-01-07|2019-01-08|\n",
            "|9.153156350685351E-5|Colombo Proper|  2019-01-08|2019-01-09|\n",
            "|1.205978992853015...|Colombo Proper|  2019-01-09|2019-01-10|\n",
            "|1.297723562983258...|Colombo Proper|  2019-01-10|2019-01-11|\n",
            "|2.239188166801278...|Colombo Proper|  2019-01-11|2019-01-12|\n",
            "|1.569418094178759...|Colombo Proper|  2019-01-12|2019-01-13|\n",
            "|                NULL|Colombo Proper|  2019-01-13|2019-01-14|\n",
            "|1.336291906862603...|Colombo Proper|  2019-01-14|2019-01-15|\n",
            "|6.374417842690063E-5|Colombo Proper|  2019-01-15|2019-01-16|\n",
            "|1.181062250815020...|Colombo Proper|  2019-01-16|2019-01-17|\n",
            "|2.472555222423037...|Colombo Proper|  2019-01-17|2019-01-18|\n",
            "|3.667525352047757E-5|Colombo Proper|  2019-01-18|2019-01-19|\n",
            "|4.057500868150313E-4|Colombo Proper|  2019-01-19|2019-01-20|\n",
            "|1.687856216479722...|Colombo Proper|  2019-01-20|2019-01-21|\n",
            "|3.881549328739672...|Colombo Proper|  2019-01-21|2019-01-22|\n",
            "+--------------------+--------------+------------+----------+\n",
            "only showing top 20 rows\n",
            "\n"
          ]
        }
      ]
    },
    {
      "cell_type": "code",
      "source": [
        "kan_data.show()"
      ],
      "metadata": {
        "colab": {
          "base_uri": "https://localhost:8080/"
        },
        "id": "e4ssZprKltmm",
        "outputId": "e426c941-4020-4d91-de51-03ff5cdd2038"
      },
      "execution_count": 8,
      "outputs": [
        {
          "output_type": "stream",
          "name": "stdout",
          "text": [
            "+--------------------+------------+------------+----------+\n",
            "|        HCHO reading|    Location|Current Date| Next Date|\n",
            "+--------------------+------------+------------+----------+\n",
            "|9.220391253917748E-5|Kandy Proper|  2019-01-02|2019-01-03|\n",
            "|                NULL|Kandy Proper|  2019-01-03|2019-01-04|\n",
            "|1.908681983853839...|Kandy Proper|  2019-01-04|2019-01-05|\n",
            "|1.219517840206744...|Kandy Proper|  2019-01-05|2019-01-06|\n",
            "|-6.51408612938880...|Kandy Proper|  2019-01-06|2019-01-07|\n",
            "|  1.6323820639265E-4|Kandy Proper|  2019-01-07|2019-01-08|\n",
            "|-6.73520553391426...|Kandy Proper|  2019-01-08|2019-01-09|\n",
            "|1.279693658243135...|Kandy Proper|  2019-01-09|2019-01-10|\n",
            "|4.546048424126012E-5|Kandy Proper|  2019-01-10|2019-01-11|\n",
            "|3.600074175192105E-5|Kandy Proper|  2019-01-11|2019-01-12|\n",
            "|1.286629698010177E-4|Kandy Proper|  2019-01-12|2019-01-13|\n",
            "|                NULL|Kandy Proper|  2019-01-13|2019-01-14|\n",
            "|                NULL|Kandy Proper|  2019-01-14|2019-01-15|\n",
            "| 9.63639634671553E-5|Kandy Proper|  2019-01-15|2019-01-16|\n",
            "|                NULL|Kandy Proper|  2019-01-16|2019-01-17|\n",
            "|1.200971278484736...|Kandy Proper|  2019-01-17|2019-01-18|\n",
            "|-1.19724656713695...|Kandy Proper|  2019-01-18|2019-01-19|\n",
            "|2.825263761529470...|Kandy Proper|  2019-01-19|2019-01-20|\n",
            "|7.150631692646835E-5|Kandy Proper|  2019-01-20|2019-01-21|\n",
            "|2.833741508232604E-4|Kandy Proper|  2019-01-21|2019-01-22|\n",
            "+--------------------+------------+------------+----------+\n",
            "only showing top 20 rows\n",
            "\n"
          ]
        }
      ]
    },
    {
      "cell_type": "code",
      "source": [
        "mon_kur_jaf_data.show()"
      ],
      "metadata": {
        "colab": {
          "base_uri": "https://localhost:8080/"
        },
        "id": "krzXTjLnlKIs",
        "outputId": "1f72fdc7-1841-4da9-c5d2-a17a67c35eb2"
      },
      "execution_count": 9,
      "outputs": [
        {
          "output_type": "stream",
          "name": "stdout",
          "text": [
            "+--------------------+------------------+------------+----------+\n",
            "|        HCHO reading|          Location|Current Date| Next Date|\n",
            "+--------------------+------------------+------------+----------+\n",
            "|1.919914652467399E-5|Bibile, Monaragala|  2019-01-02|2019-01-03|\n",
            "|2.811447935930283...|Bibile, Monaragala|  2019-01-03|2019-01-04|\n",
            "|3.747998184385943E-5|Bibile, Monaragala|  2019-01-04|2019-01-05|\n",
            "|-1.79826087934531...|Bibile, Monaragala|  2019-01-05|2019-01-06|\n",
            "|1.457836896179902...|Bibile, Monaragala|  2019-01-06|2019-01-07|\n",
            "|2.828590802546534...|Bibile, Monaragala|  2019-01-07|2019-01-08|\n",
            "|                NULL|Bibile, Monaragala|  2019-01-08|2019-01-09|\n",
            "|1.420850167050957...|Bibile, Monaragala|  2019-01-09|2019-01-10|\n",
            "|                NULL|Bibile, Monaragala|  2019-01-10|2019-01-11|\n",
            "|2.014587947072581E-5|Bibile, Monaragala|  2019-01-11|2019-01-12|\n",
            "|1.582787663210183...|Bibile, Monaragala|  2019-01-12|2019-01-13|\n",
            "|                NULL|Bibile, Monaragala|  2019-01-13|2019-01-14|\n",
            "|                NULL|Bibile, Monaragala|  2019-01-14|2019-01-15|\n",
            "|9.952823849642218E-5|Bibile, Monaragala|  2019-01-15|2019-01-16|\n",
            "|7.484570960514249E-5|Bibile, Monaragala|  2019-01-16|2019-01-17|\n",
            "|7.736112226328797E-5|Bibile, Monaragala|  2019-01-17|2019-01-18|\n",
            "|                NULL|Bibile, Monaragala|  2019-01-18|2019-01-19|\n",
            "|3.988141010407665...|Bibile, Monaragala|  2019-01-19|2019-01-20|\n",
            "|1.891620203853342...|Bibile, Monaragala|  2019-01-20|2019-01-21|\n",
            "|1.159969926423745...|Bibile, Monaragala|  2019-01-21|2019-01-22|\n",
            "+--------------------+------------------+------------+----------+\n",
            "only showing top 20 rows\n",
            "\n"
          ]
        }
      ]
    },
    {
      "cell_type": "markdown",
      "source": [
        "#Data Preprocessing"
      ],
      "metadata": {
        "id": "bHOlD5enNwVh"
      }
    },
    {
      "cell_type": "markdown",
      "source": [
        "##Seperating Dataset"
      ],
      "metadata": {
        "id": "vF4Kh_lsRXx9"
      }
    },
    {
      "cell_type": "code",
      "source": [
        "Monaragala_Data = mon_kur_jaf_data[mon_kur_jaf_data['Location'] == 'Bibile, Monaragala']"
      ],
      "metadata": {
        "id": "lqeU4ISFRbGu"
      },
      "execution_count": 12,
      "outputs": []
    },
    {
      "cell_type": "code",
      "source": [
        "Monaragala_Data.show()"
      ],
      "metadata": {
        "colab": {
          "base_uri": "https://localhost:8080/"
        },
        "id": "0IT4lXwRTAO_",
        "outputId": "3752c594-4969-431d-a75e-7d1b093db9a9"
      },
      "execution_count": 13,
      "outputs": [
        {
          "output_type": "stream",
          "name": "stdout",
          "text": [
            "+--------------------+------------------+------------+----------+\n",
            "|        HCHO reading|          Location|Current Date| Next Date|\n",
            "+--------------------+------------------+------------+----------+\n",
            "|1.919914652467399E-5|Bibile, Monaragala|  2019-01-02|2019-01-03|\n",
            "|2.811447935930283...|Bibile, Monaragala|  2019-01-03|2019-01-04|\n",
            "|3.747998184385943E-5|Bibile, Monaragala|  2019-01-04|2019-01-05|\n",
            "|-1.79826087934531...|Bibile, Monaragala|  2019-01-05|2019-01-06|\n",
            "|1.457836896179902...|Bibile, Monaragala|  2019-01-06|2019-01-07|\n",
            "|2.828590802546534...|Bibile, Monaragala|  2019-01-07|2019-01-08|\n",
            "|                NULL|Bibile, Monaragala|  2019-01-08|2019-01-09|\n",
            "|1.420850167050957...|Bibile, Monaragala|  2019-01-09|2019-01-10|\n",
            "|                NULL|Bibile, Monaragala|  2019-01-10|2019-01-11|\n",
            "|2.014587947072581E-5|Bibile, Monaragala|  2019-01-11|2019-01-12|\n",
            "|1.582787663210183...|Bibile, Monaragala|  2019-01-12|2019-01-13|\n",
            "|                NULL|Bibile, Monaragala|  2019-01-13|2019-01-14|\n",
            "|                NULL|Bibile, Monaragala|  2019-01-14|2019-01-15|\n",
            "|9.952823849642218E-5|Bibile, Monaragala|  2019-01-15|2019-01-16|\n",
            "|7.484570960514249E-5|Bibile, Monaragala|  2019-01-16|2019-01-17|\n",
            "|7.736112226328797E-5|Bibile, Monaragala|  2019-01-17|2019-01-18|\n",
            "|                NULL|Bibile, Monaragala|  2019-01-18|2019-01-19|\n",
            "|3.988141010407665...|Bibile, Monaragala|  2019-01-19|2019-01-20|\n",
            "|1.891620203853342...|Bibile, Monaragala|  2019-01-20|2019-01-21|\n",
            "|1.159969926423745...|Bibile, Monaragala|  2019-01-21|2019-01-22|\n",
            "+--------------------+------------------+------------+----------+\n",
            "only showing top 20 rows\n",
            "\n"
          ]
        }
      ]
    },
    {
      "cell_type": "code",
      "source": [
        "Kurunegala_Data = mon_kur_jaf_data[mon_kur_jaf_data['Location'] == 'Kurunegala Proper']"
      ],
      "metadata": {
        "id": "fxn0K3QGTGyr"
      },
      "execution_count": 14,
      "outputs": []
    },
    {
      "cell_type": "code",
      "source": [
        "Kurunegala_Data.show()"
      ],
      "metadata": {
        "colab": {
          "base_uri": "https://localhost:8080/"
        },
        "id": "VISTfbTjTnoD",
        "outputId": "c342009f-f59c-4167-8ba0-7200aa5de788"
      },
      "execution_count": 15,
      "outputs": [
        {
          "output_type": "stream",
          "name": "stdout",
          "text": [
            "+--------------------+-----------------+------------+----------+\n",
            "|        HCHO reading|         Location|Current Date| Next Date|\n",
            "+--------------------+-----------------+------------+----------+\n",
            "|8.829725542537962E-5|Kurunegala Proper|  2019-01-01|2019-01-02|\n",
            "|1.370787402778218...|Kurunegala Proper|  2019-01-02|2019-01-03|\n",
            "|1.480085027113037E-4|Kurunegala Proper|  2019-01-03|2019-01-04|\n",
            "|-2.04637905973554...|Kurunegala Proper|  2019-01-04|2019-01-05|\n",
            "|2.489134742856164E-4|Kurunegala Proper|  2019-01-05|2019-01-06|\n",
            "|1.015583300177078...|Kurunegala Proper|  2019-01-06|2019-01-07|\n",
            "|1.919056668190272...|Kurunegala Proper|  2019-01-07|2019-01-08|\n",
            "|1.215500456138868...|Kurunegala Proper|  2019-01-08|2019-01-09|\n",
            "|9.741700467262773E-5|Kurunegala Proper|  2019-01-09|2019-01-10|\n",
            "|1.130342628012010...|Kurunegala Proper|  2019-01-10|2019-01-11|\n",
            "|7.047632943988818E-5|Kurunegala Proper|  2019-01-11|2019-01-12|\n",
            "|1.691712548577679E-4|Kurunegala Proper|  2019-01-12|2019-01-13|\n",
            "|                NULL|Kurunegala Proper|  2019-01-13|2019-01-14|\n",
            "|                NULL|Kurunegala Proper|  2019-01-14|2019-01-15|\n",
            "|8.792493954777681E-5|Kurunegala Proper|  2019-01-15|2019-01-16|\n",
            "|6.834336052834083E-5|Kurunegala Proper|  2019-01-16|2019-01-17|\n",
            "|1.380624797849095...|Kurunegala Proper|  2019-01-17|2019-01-18|\n",
            "|1.738223309452633...|Kurunegala Proper|  2019-01-18|2019-01-19|\n",
            "|4.428761270622924E-4|Kurunegala Proper|  2019-01-19|2019-01-20|\n",
            "|9.756178281847059E-5|Kurunegala Proper|  2019-01-20|2019-01-21|\n",
            "+--------------------+-----------------+------------+----------+\n",
            "only showing top 20 rows\n",
            "\n"
          ]
        }
      ]
    },
    {
      "cell_type": "code",
      "source": [],
      "metadata": {
        "id": "wtVFcniBTpoI"
      },
      "execution_count": null,
      "outputs": []
    }
  ]
}